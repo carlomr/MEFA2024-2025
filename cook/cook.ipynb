{
 "cells": [
  {
   "cell_type": "markdown",
   "metadata": {},
   "source": [
    "# Cook's membrane\n",
    "\n",
    "## Implementation\n",
    "\n",
    "### Mesh creation in `gmsh`, functional setup\n",
    "We start by creating the mesh with `gmsh`, through its python interface (note that this may require that you install the python packages `gmsh` and `python-gmsh`)."
   ]
  },
  {
   "cell_type": "code",
   "execution_count": 1,
   "metadata": {
    "lines_to_next_cell": 2,
    "scrolled": true
   },
   "outputs": [],
   "source": [
    "import gmsh\n",
    "gmsh.initialize()"
   ]
  },
  {
   "cell_type": "markdown",
   "metadata": {},
   "source": [
    "We now create the quadrilateral domain in gmsh. We start by creating the points, le line connecting them, then finally the surface of the domain. \n",
    "\n",
    "We can associate to each point a mesh size (`lc` variable). If `lc`$=0$, or if it is not set, we do not specify any constraint."
   ]
  },
  {
   "cell_type": "code",
   "execution_count": 2,
   "metadata": {},
   "outputs": [
    {
     "name": "stdout",
     "output_type": "stream",
     "text": [
      "Info    : Clearing all models and views...\n",
      "Info    : Done clearing all models and views\n"
     ]
    },
    {
     "data": {
      "text/plain": [
       "1"
      ]
     },
     "execution_count": 2,
     "metadata": {},
     "output_type": "execute_result"
    }
   ],
   "source": [
    "gmsh.clear()\n",
    "gdim = 2\n",
    "\n",
    "# the quadrilateral domain \n",
    "lc = 0\n",
    "p1 = gmsh.model.geo.addPoint(0, 0, 0, lc)\n",
    "p2 = gmsh.model.geo.addPoint(48, 44, 0, lc)\n",
    "p3 = gmsh.model.geo.addPoint(48, 60, 0, lc)\n",
    "p4 = gmsh.model.geo.addPoint(0, 44, 0, lc)\n",
    "l1 = gmsh.model.geo.addLine(p1, p2)\n",
    "l2 = gmsh.model.geo.addLine(p2, p3)\n",
    "l3 = gmsh.model.geo.addLine(p3, p4)\n",
    "l4 = gmsh.model.geo.addLine(p4, p1)\n",
    "cl = gmsh.model.geo.addCurveLoop([l1, l2, l3, l4])\n",
    "ps = gmsh.model.geo.addPlaneSurface([cl])\n",
    "gmsh.model.geo.synchronize()\n",
    "gmsh.model.addPhysicalGroup(gdim, [ps], tag=1)"
   ]
  },
  {
   "cell_type": "markdown",
   "metadata": {},
   "source": [
    "We generate the mesh."
   ]
  },
  {
   "cell_type": "code",
   "execution_count": 3,
   "metadata": {
    "scrolled": true
   },
   "outputs": [
    {
     "name": "stdout",
     "output_type": "stream",
     "text": [
      "Info    : Meshing 1D...\n",
      "Info    : [  0%] Meshing curve 1 (Line)\n",
      "Info    : [ 30%] Meshing curve 2 (Line)\n",
      "Info    : [ 50%] Meshing curve 3 (Line)\n",
      "Info    : [ 80%] Meshing curve 4 (Line)\n",
      "Info    : Done meshing 1D (Wall 0.00256158s, CPU 0.000377s)\n",
      "Info    : Meshing 2D...\n",
      "Info    : Meshing surface 1 (Plane, Frontal-Delaunay)\n",
      "Info    : Done meshing 2D (Wall 0.0569849s, CPU 0.022092s)\n",
      "Info    : 1296 nodes 2594 elements\n"
     ]
    }
   ],
   "source": [
    "gmsh.option.setNumber(\"Mesh.CharacteristicLengthMin\", 1)\n",
    "gmsh.option.setNumber(\"Mesh.CharacteristicLengthMax\", 1.2)\n",
    "\n",
    "gmsh.model.mesh.generate(gdim)"
   ]
  },
  {
   "cell_type": "markdown",
   "metadata": {},
   "source": [
    "We now import the mesh into dolfinx."
   ]
  },
  {
   "cell_type": "code",
   "execution_count": 4,
   "metadata": {},
   "outputs": [],
   "source": [
    "from dolfinx.io import gmshio\n",
    "from mpi4py import MPI\n",
    "\n",
    "gmsh_model_rank = 0\n",
    "mesh_comm = MPI.COMM_WORLD\n",
    "domain, cell_markers, facet_markers = gmshio.model_to_mesh(gmsh.model, mesh_comm, gmsh_model_rank, gdim=gdim)"
   ]
  },
  {
   "cell_type": "markdown",
   "metadata": {},
   "source": [
    "We import the same packages as for the linear elasticity example. "
   ]
  },
  {
   "cell_type": "code",
   "execution_count": 5,
   "metadata": {
    "tags": []
   },
   "outputs": [],
   "source": [
    "import pyvista\n",
    "# comment following line if using docker\n",
    "pyvista.set_jupyter_backend('client')\n",
    "# To remove interactivity in the plots, use\n",
    "# pyvista.set_jupyter_backend('static')\n",
    "from dolfinx import mesh, fem, plot, io, default_scalar_type, geometry\n",
    "from dolfinx.fem.petsc import LinearProblem\n",
    "from mpi4py import MPI\n",
    "import ufl\n",
    "import numpy as np"
   ]
  },
  {
   "cell_type": "markdown",
   "metadata": {},
   "source": [
    "We create the function space. As in the elasticity example, we want $2$-dimensional vectors of functions."
   ]
  },
  {
   "cell_type": "code",
   "execution_count": 6,
   "metadata": {
    "tags": []
   },
   "outputs": [],
   "source": [
    "V = fem.functionspace(domain, (\"Lagrange\", 1, (domain.topology.dim, )))"
   ]
  },
  {
   "cell_type": "markdown",
   "metadata": {},
   "source": [
    "We plot the mesh."
   ]
  },
  {
   "cell_type": "code",
   "execution_count": 7,
   "metadata": {},
   "outputs": [
    {
     "data": {
      "application/vnd.jupyter.widget-view+json": {
       "model_id": "41c8c43dbe6a459eaebad64a9293fd2a",
       "version_major": 2,
       "version_minor": 0
      },
      "text/plain": [
       "Widget(value='<iframe src=\"http://localhost:53215/index.html?ui=P_0x315be9370_0&reconnect=auto\" class=\"pyvista…"
      ]
     },
     "metadata": {},
     "output_type": "display_data"
    }
   ],
   "source": [
    "## Uncomment the following line if using the docker image\n",
    "# pyvista.start_xvfb()\n",
    "p = pyvista.Plotter()\n",
    "topology, cell_types, dom_geometry = plot.vtk_mesh(V)\n",
    "grid = pyvista.UnstructuredGrid(topology, cell_types, dom_geometry)\n",
    "p.add_mesh(grid, style=\"wireframe\", color=\"k\")\n",
    "p.camera_position = 'xy'\n",
    "p.show()\n"
   ]
  },
  {
   "cell_type": "markdown",
   "metadata": {},
   "source": [
    "## Boundary conditions\n",
    "As we would like to clamp the boundary at $x=0$, we do this by using a marker function, which locate the facets where $x$ is close to zero by machine precision."
   ]
  },
  {
   "cell_type": "code",
   "execution_count": 8,
   "metadata": {},
   "outputs": [],
   "source": [
    "def clamped_boundary(x):\n",
    "    return np.isclose(x[0], 0)\n",
    "\n",
    "\n",
    "edim = domain.topology.dim - 1\n",
    "boundary_edge = mesh.locate_entities_boundary(domain, edim, clamped_boundary)\n",
    "\n",
    "u_D = np.array([0, 0], dtype=default_scalar_type)\n",
    "bc = fem.dirichletbc(u_D, fem.locate_dofs_topological(V, edim, boundary_edge), V)"
   ]
  },
  {
   "cell_type": "markdown",
   "metadata": {},
   "source": [
    "We define the traction $T$ over the remaining boundary. It is zero on two edges, while it is equal to $1/16$ over the remaining one, see the lecture notes. We identify the edges and define the constant tractions. We define boudary measures on different parts of the boundary, see https://jsdokken.com/dolfinx-tutorial/chapter3/robin_neumann_dirichlet.html"
   ]
  },
  {
   "cell_type": "code",
   "execution_count": 9,
   "metadata": {
    "lines_to_end_of_cell_marker": 2,
    "scrolled": true
   },
   "outputs": [],
   "source": [
    "def zero_traction(x):\n",
    "    return np.isclose(x[1],11./12*x[0]) | np.isclose(x[1]-x[0]/3,44)\n",
    "\n",
    "def unif_traction(x):\n",
    "    return np.isclose(x[0], 48.)\n",
    "\n",
    "zt_mark = 1\n",
    "ut_mark = 2\n",
    "edges = [(zt_mark, zero_traction), (ut_mark, unif_traction)]\n",
    "\n",
    "def create_facet_tags(domain, edges):\n",
    "    facet_indices, facet_markers = [], []\n",
    "    fdim = domain.topology.dim - 1\n",
    "    for (marker, locator) in edges:\n",
    "        facets = mesh.locate_entities_boundary(domain, fdim, locator)\n",
    "        facet_indices.append(facets)\n",
    "        facet_markers.append(np.full_like(facets, marker))\n",
    "    facet_indices = np.hstack(facet_indices).astype(np.int32)\n",
    "    facet_markers = np.hstack(facet_markers).astype(np.int32)\n",
    "    sorted_facets = np.argsort(facet_indices)\n",
    "    facet_tag = mesh.meshtags(domain, fdim, facet_indices[sorted_facets], facet_markers[sorted_facets])\n",
    "    return facet_tag\n",
    "\n",
    "\n",
    "domain.topology.create_connectivity(domain.topology.dim-1, domain.topology.dim)\n",
    "# with io.XDMFFile(domain.comm, \"facet_tags.xdmf\", \"w\") as xdmf:\n",
    "#     xdmf.write_mesh(domain)\n",
    "#     xdmf.write_meshtags(facet_tag, domain.geometry)\n",
    "    \n",
    "\n",
    "Tzero = fem.Constant(domain, default_scalar_type((0, 0)))\n",
    "Tunif = fem.Constant(domain, default_scalar_type((0, 1./16)))"
   ]
  },
  {
   "cell_type": "markdown",
   "metadata": {},
   "source": [
    "We now create two boundary measures, one on the zero traction edges, the other on the constant traction edge. We will be able to access the measure through `ds(ut_mark)` and `ds(zt_mark)`."
   ]
  },
  {
   "cell_type": "code",
   "execution_count": 10,
   "metadata": {},
   "outputs": [],
   "source": [
    "ds = ufl.Measure(\"ds\", domain=domain, subdomain_data=create_facet_tags(domain, edges))"
   ]
  },
  {
   "cell_type": "markdown",
   "metadata": {},
   "source": [
    "## Variational formulation\n",
    "We define our parameters."
   ]
  },
  {
   "cell_type": "code",
   "execution_count": 11,
   "metadata": {},
   "outputs": [],
   "source": [
    "lambda_ = 0.750\n",
    "mu = 0.375"
   ]
  },
  {
   "cell_type": "markdown",
   "metadata": {},
   "source": [
    "We are now ready to create our variational formulation in close to mathematical syntax, as for the previous problems."
   ]
  },
  {
   "cell_type": "code",
   "execution_count": 12,
   "metadata": {},
   "outputs": [],
   "source": [
    "def epsilon(u):\n",
    "    return ufl.sym(ufl.grad(u))  # Equivalent to 0.5*(ufl.nabla_grad(u) + ufl.nabla_grad(u).T)\n",
    "\n",
    "\n",
    "def sigma(u):\n",
    "    return lambda_ * ufl.nabla_div(u) * ufl.Identity(len(u)) + 2 * mu * epsilon(u)\n",
    "\n",
    "\n",
    "u = ufl.TrialFunction(V)\n",
    "v = ufl.TestFunction(V)\n",
    "f = fem.Constant(domain, default_scalar_type((0, 0)))\n",
    "a = ufl.inner(sigma(u), epsilon(v)) * ufl.dx\n",
    "\n",
    "L = ufl.dot(f, v) * ufl.dx + ufl.dot(Tzero, v) * ds(zt_mark) + ufl.dot(Tunif, v) * ds(ut_mark)"
   ]
  },
  {
   "cell_type": "markdown",
   "metadata": {},
   "source": [
    "\n",
    "## Solve the linear variational problem\n",
    "As in the previous demos, we assemble the matrix and right hand side vector and use PETSc to solve our variational problem"
   ]
  },
  {
   "cell_type": "code",
   "execution_count": 13,
   "metadata": {},
   "outputs": [],
   "source": [
    "problem = LinearProblem(a, L, bcs=[bc], petsc_options={\"ksp_type\": \"preonly\", \"pc_type\": \"lu\"})\n",
    "uh = problem.solve()"
   ]
  },
  {
   "cell_type": "markdown",
   "metadata": {},
   "source": [
    "## Visualization"
   ]
  },
  {
   "cell_type": "markdown",
   "metadata": {},
   "source": [
    "We plot the displaced membrane, adding a fictititous third dimension because the function `warp_by_vector` only works for three dimensional input data."
   ]
  },
  {
   "cell_type": "code",
   "execution_count": 14,
   "metadata": {},
   "outputs": [
    {
     "data": {
      "application/vnd.jupyter.widget-view+json": {
       "model_id": "e088bcb3ef804737a8dfad0d5e5e91d4",
       "version_major": 2,
       "version_minor": 0
      },
      "text/plain": [
       "Widget(value='<iframe src=\"http://localhost:53215/index.html?ui=P_0x316191d30_1&reconnect=auto\" class=\"pyvista…"
      ]
     },
     "metadata": {},
     "output_type": "display_data"
    }
   ],
   "source": [
    "# pyvista.start_xvfb()\n",
    "\n",
    "\n",
    "uh_copy = uh\n",
    "# Create plotter and pyvista grid\n",
    "p = pyvista.Plotter()\n",
    "topology, cell_types, dom_geometry = plot.vtk_mesh(V)\n",
    "grid = pyvista.UnstructuredGrid(topology, cell_types, dom_geometry)\n",
    "\n",
    "# warp by vector only works in 3d: the following code is a workaround\n",
    "vals_2D = uh_copy.x.array.reshape(int(uh.x.array.shape[0]/2),2)\n",
    "vals = np.zeros((vals_2D.shape[0], 3))\n",
    "vals[:,:2] = vals_2D\n",
    "grid[\"u\"] = vals\n",
    "actor_0 = p.add_mesh(grid, style=\"wireframe\", color=\"k\")\n",
    "warped = grid.warp_by_vector(\"u\", factor=1)\n",
    "actor_1 = p.add_mesh(warped, show_edges=True)\n",
    "p.view_xy()\n",
    "\n",
    "if not pyvista.OFF_SCREEN:\n",
    "    p.show()\n",
    "else:\n",
    "    figure_as_array = p.screenshot(\"deflection.png\")"
   ]
  },
  {
   "cell_type": "markdown",
   "metadata": {},
   "source": [
    "## Evaluation at a point\n",
    "We evaluate the computed displacement at the point\n",
    "$$\n",
    "A = (48, 52)\n",
    "$$\n",
    "and compare with the quantity\n",
    "$$\n",
    "u(A) = \\begin{pmatrix}\n",
    "-9.5775\\\\\n",
    "21.520\n",
    "\\end{pmatrix}.\n",
    "$$\n",
    "We use the procedure described in https://jsdokken.com/dolfinx-tutorial/chapter1/membrane_code.html#making-curve-plots-throughout-the-domain"
   ]
  },
  {
   "cell_type": "code",
   "execution_count": 15,
   "metadata": {},
   "outputs": [
    {
     "data": {
      "text/plain": [
       "array([-9.53572344, 21.43950661])"
      ]
     },
     "execution_count": 15,
     "metadata": {},
     "output_type": "execute_result"
    }
   ],
   "source": [
    "point = np.array([48, 52, 0])\n",
    "\n",
    "def find_cell_for_one_point(domain, point):\n",
    "    bb_tree = geometry.bb_tree(domain, domain.topology.dim)\n",
    "    cells = []\n",
    "    points_on_proc = []\n",
    "    # Find cells whose bounding-box collide with the the points\n",
    "    cell_candidates = geometry.compute_collisions_points(bb_tree, point.T)\n",
    "    # Choose one of the cells that contains the point\n",
    "    colliding_cells = geometry.compute_colliding_cells(domain, cell_candidates, point.T)\n",
    "\n",
    "    cells.append(colliding_cells.links(0)[0])\n",
    "\n",
    "    return cells\n",
    "\n",
    "uh.eval(point, find_cell_for_one_point(domain, point))"
   ]
  },
  {
   "cell_type": "markdown",
   "metadata": {},
   "source": [
    "## Convergence when increasing the number of degrees of freedom\n",
    "We wrap all the previous code into a function, to be able to run it for differente mesh sizes and compare with the exact value."
   ]
  },
  {
   "cell_type": "code",
   "execution_count": 16,
   "metadata": {},
   "outputs": [],
   "source": [
    "def solve_cook(mesh_width):\n",
    "    gmsh.clear()\n",
    "    gdim = 2\n",
    "    \n",
    "    # the quadrilateral domain \n",
    "    lc = 0\n",
    "    p1 = gmsh.model.geo.addPoint(0, 0, 0, lc)\n",
    "    p2 = gmsh.model.geo.addPoint(48, 44, 0, lc)\n",
    "    p3 = gmsh.model.geo.addPoint(48, 60, 0, lc)\n",
    "    p4 = gmsh.model.geo.addPoint(0, 44, 0, lc)\n",
    "    l1 = gmsh.model.geo.addLine(p1, p2)\n",
    "    l2 = gmsh.model.geo.addLine(p2, p3)\n",
    "    l3 = gmsh.model.geo.addLine(p3, p4)\n",
    "    l4 = gmsh.model.geo.addLine(p4, p1)\n",
    "    cl = gmsh.model.geo.addCurveLoop([l1, l2, l3, l4])\n",
    "    ps = gmsh.model.geo.addPlaneSurface([cl])\n",
    "    gmsh.model.geo.synchronize()\n",
    "    gmsh.model.addPhysicalGroup(gdim, [ps], tag=1)\n",
    "    gmsh.option.setNumber(\"Mesh.CharacteristicLengthMin\", mesh_width)\n",
    "    gmsh.option.setNumber(\"Mesh.CharacteristicLengthMax\", 1.2*mesh_width)\n",
    "\n",
    "    gmsh.model.mesh.generate(gdim)\n",
    "    domain, cell_markers, facet_markers = gmshio.model_to_mesh(gmsh.model, mesh_comm, gmsh_model_rank, gdim=gdim)\n",
    "\n",
    "    facet_tag = create_facet_tags(domain, edges)\n",
    "    \n",
    "    domain.topology.create_connectivity(domain.topology.dim-1, domain.topology.dim)\n",
    "    \n",
    "    Tzero = fem.Constant(domain, default_scalar_type((0, 0)))\n",
    "    Tunif = fem.Constant(domain, default_scalar_type((0, 1./16)))\n",
    "    \n",
    "    ds = ufl.Measure(\"ds\", domain=domain, subdomain_data=facet_tag)\n",
    "\n",
    "    V = fem.functionspace(domain, (\"Lagrange\", 1, (domain.topology.dim, )))\n",
    "    edim = domain.topology.dim - 1\n",
    "    boundary_edge = mesh.locate_entities_boundary(domain, edim, clamped_boundary)\n",
    "    \n",
    "    u_D = np.array([0, 0], dtype=default_scalar_type)\n",
    "    bc = fem.dirichletbc(u_D, fem.locate_dofs_topological(V, edim, boundary_edge), V)\n",
    "\n",
    "        \n",
    "    u = ufl.TrialFunction(V)\n",
    "    v = ufl.TestFunction(V)\n",
    "    f = fem.Constant(domain, default_scalar_type((0, 0)))\n",
    "    a = ufl.inner(sigma(u), epsilon(v)) * ufl.dx\n",
    "    \n",
    "    L = ufl.dot(f, v) * ufl.dx + ufl.dot(Tzero, v) * ds(zt_mark) + ufl.dot(Tunif, v) * ds(ut_mark)\n",
    "    problem = LinearProblem(a, L, bcs=[bc], petsc_options={\"ksp_type\": \"preonly\", \"pc_type\": \"lu\"})\n",
    "    uh = problem.solve()\n",
    "\n",
    "    return uh, V, domain"
   ]
  },
  {
   "cell_type": "markdown",
   "metadata": {},
   "source": [
    "We introduce a function that returns the number of degrees of freedom of a FE space"
   ]
  },
  {
   "cell_type": "code",
   "execution_count": 17,
   "metadata": {},
   "outputs": [],
   "source": [
    "def n_dofs(V):\n",
    "    return V.dofmap.index_map.size_global * V.dofmap.index_map_bs"
   ]
  },
  {
   "cell_type": "markdown",
   "metadata": {},
   "source": [
    "We run the solver for different mesh sizes, compute the value at the specified point, and compute the error with respect to the \"exact\" value that we have been given. We solve the problem with characteristing mesh sizes\n",
    "$$\n",
    "h_i = 10^{\\beta_i}, \\qquad \\beta_i \\text{ uniformly distributed in }[-0.8, 0.5].\n",
    "$$\n",
    "The reason for this choice (instead of linearly distributed mesh sizes) will become clear in the sequel."
   ]
  },
  {
   "cell_type": "code",
   "execution_count": 18,
   "metadata": {},
   "outputs": [
    {
     "name": "stdout",
     "output_type": "stream",
     "text": [
      "Solving problem with h=0.15848931924611134\n",
      "Info    : Clearing all models and views...\n",
      "Info    : Done clearing all models and views\n",
      "Info    : Meshing 1D...\n",
      "Info    : [  0%] Meshing curve 1 (Line)\n",
      "Info    : [ 30%] Meshing curve 2 (Line)\n",
      "Info    : [ 50%] Meshing curve 3 (Line)\n",
      "Info    : [ 80%] Meshing curve 4 (Line)\n",
      "Info    : Done meshing 1D (Wall 0.0020105s, CPU 0.000389s)\n",
      "Info    : Meshing 2D...\n",
      "Info    : Meshing surface 1 (Plane, Frontal-Delaunay)\n",
      "Info    : Done meshing 2D (Wall 1.09929s, CPU 1.06782s)\n",
      "Info    : 46912 nodes 93826 elements\n",
      "Solving problem with h=0.22102654979706374\n",
      "Info    : Clearing all models and views...\n",
      "Info    : Done clearing all models and views\n",
      "Info    : Meshing 1D...\n",
      "Info    : [  0%] Meshing curve 1 (Line)\n",
      "Info    : [ 30%] Meshing curve 2 (Line)\n",
      "Info    : [ 50%] Meshing curve 3 (Line)\n",
      "Info    : [ 80%] Meshing curve 4 (Line)\n",
      "Info    : Done meshing 1D (Wall 0.000280919s, CPU 0.000288s)\n",
      "Info    : Meshing 2D...\n",
      "Info    : Meshing surface 1 (Plane, Frontal-Delaunay)\n",
      "Info    : Done meshing 2D (Wall 0.494009s, CPU 0.48469s)\n",
      "Info    : 24185 nodes 48372 elements\n",
      "Solving problem with h=0.30823992397451433\n",
      "Info    : Clearing all models and views...\n",
      "Info    : Done clearing all models and views\n",
      "Info    : Meshing 1D...\n",
      "Info    : [  0%] Meshing curve 1 (Line)\n",
      "Info    : [ 30%] Meshing curve 2 (Line)\n",
      "Info    : [ 50%] Meshing curve 3 (Line)\n",
      "Info    : [ 80%] Meshing curve 4 (Line)\n",
      "Info    : Done meshing 1D (Wall 0.000215167s, CPU 0.000229s)\n",
      "Info    : Meshing 2D...\n",
      "Info    : Meshing surface 1 (Plane, Frontal-Delaunay)\n",
      "Info    : Done meshing 2D (Wall 0.24204s, CPU 0.238617s)\n",
      "Info    : 12567 nodes 25136 elements\n",
      "Solving problem with h=0.42986623470822766\n",
      "Info    : Clearing all models and views...\n",
      "Info    : Done clearing all models and views\n",
      "Info    : Meshing 1D...\n",
      "Info    : [  0%] Meshing curve 1 (Line)\n",
      "Info    : [ 30%] Meshing curve 2 (Line)\n",
      "Info    : [ 50%] Meshing curve 3 (Line)\n",
      "Info    : [ 80%] Meshing curve 4 (Line)\n",
      "Info    : Done meshing 1D (Wall 0.000210626s, CPU 0.000225s)\n",
      "Info    : Meshing 2D...\n",
      "Info    : Meshing surface 1 (Plane, Frontal-Delaunay)\n",
      "Info    : Done meshing 2D (Wall 0.116833s, CPU 0.114108s)\n",
      "Info    : 6601 nodes 13204 elements\n",
      "Solving problem with h=0.599484250318941\n",
      "Info    : Clearing all models and views...\n",
      "Info    : Done clearing all models and views\n",
      "Info    : Meshing 1D...\n",
      "Info    : [  0%] Meshing curve 1 (Line)\n",
      "Info    : [ 30%] Meshing curve 2 (Line)\n",
      "Info    : [ 50%] Meshing curve 3 (Line)\n",
      "Info    : [ 80%] Meshing curve 4 (Line)\n",
      "Info    : Done meshing 1D (Wall 0.000285165s, CPU 0.000274s)\n",
      "Info    : Meshing 2D...\n",
      "Info    : Meshing surface 1 (Plane, Frontal-Delaunay)\n",
      "Info    : Done meshing 2D (Wall 0.0553498s, CPU 0.054551s)\n",
      "Info    : 3449 nodes 6900 elements\n",
      "Solving problem with h=0.8360306936514643\n",
      "Info    : Clearing all models and views...\n",
      "Info    : Done clearing all models and views\n",
      "Info    : Meshing 1D...\n",
      "Info    : [  0%] Meshing curve 1 (Line)\n",
      "Info    : [ 30%] Meshing curve 2 (Line)\n",
      "Info    : [ 50%] Meshing curve 3 (Line)\n",
      "Info    : [ 80%] Meshing curve 4 (Line)\n",
      "Info    : Done meshing 1D (Wall 0.000272667s, CPU 0.000231s)\n",
      "Info    : Meshing 2D...\n",
      "Info    : Meshing surface 1 (Plane, Frontal-Delaunay)\n",
      "Info    : Done meshing 2D (Wall 0.0286406s, CPU 0.028197s)\n",
      "Info    : 1791 nodes 3584 elements\n",
      "Solving problem with h=1.1659144011798317\n",
      "Info    : Clearing all models and views...\n",
      "Info    : Done clearing all models and views\n",
      "Info    : Meshing 1D...\n",
      "Info    : [  0%] Meshing curve 1 (Line)\n",
      "Info    : [ 30%] Meshing curve 2 (Line)\n",
      "Info    : [ 50%] Meshing curve 3 (Line)\n",
      "Info    : [ 80%] Meshing curve 4 (Line)\n",
      "Info    : Done meshing 1D (Wall 0.000162959s, CPU 0.000172s)\n",
      "Info    : Meshing 2D...\n",
      "Info    : Meshing surface 1 (Plane, Frontal-Delaunay)\n",
      "Info    : Done meshing 2D (Wall 0.0144885s, CPU 0.014259s)\n",
      "Info    : 967 nodes 1936 elements\n",
      "Solving problem with h=1.625964693881482\n",
      "Info    : Clearing all models and views...\n",
      "Info    : Done clearing all models and views\n",
      "Info    : Meshing 1D...\n",
      "Info    : [  0%] Meshing curve 1 (Line)\n",
      "Info    : [ 30%] Meshing curve 2 (Line)\n",
      "Info    : [ 50%] Meshing curve 3 (Line)\n",
      "Info    : [ 80%] Meshing curve 4 (Line)\n",
      "Info    : Done meshing 1D (Wall 0.000149792s, CPU 0.000157s)\n",
      "Info    : Meshing 2D...\n",
      "Info    : Meshing surface 1 (Plane, Frontal-Delaunay)\n",
      "Info    : Done meshing 2D (Wall 0.00750629s, CPU 0.007321s)\n",
      "Info    : 516 nodes 1034 elements\n",
      "Solving problem with h=2.267543125870802\n",
      "Info    : Clearing all models and views...\n",
      "Info    : Done clearing all models and views\n",
      "Info    : Meshing 1D...\n",
      "Info    : [  0%] Meshing curve 1 (Line)\n",
      "Info    : [ 30%] Meshing curve 2 (Line)\n",
      "Info    : [ 50%] Meshing curve 3 (Line)\n",
      "Info    : [ 80%] Meshing curve 4 (Line)\n",
      "Info    : Done meshing 1D (Wall 0.000157291s, CPU 0.000174s)\n",
      "Info    : Meshing 2D...\n",
      "Info    : Meshing surface 1 (Plane, Frontal-Delaunay)\n",
      "Info    : Done meshing 2D (Wall 0.00405504s, CPU 0.003893s)\n",
      "Info    : 278 nodes 558 elements\n",
      "Solving problem with h=3.1622776601683795\n",
      "Info    : Clearing all models and views...\n",
      "Info    : Done clearing all models and views\n",
      "Info    : Meshing 1D...\n",
      "Info    : [  0%] Meshing curve 1 (Line)\n",
      "Info    : [ 30%] Meshing curve 2 (Line)\n",
      "Info    : [ 50%] Meshing curve 3 (Line)\n",
      "Info    : [ 80%] Meshing curve 4 (Line)\n",
      "Info    : Done meshing 1D (Wall 0.000160959s, CPU 0.000158s)\n",
      "Info    : Meshing 2D...\n",
      "Info    : Meshing surface 1 (Plane, Frontal-Delaunay)\n",
      "Info    : Done meshing 2D (Wall 0.0021705s, CPU 0.002075s)\n",
      "Info    : 155 nodes 312 elements\n"
     ]
    }
   ],
   "source": [
    "point = np.array([48, 52, 0])\n",
    "exact_value = np.array([-9.5775, 21.52])\n",
    "uh_vals = []\n",
    "ndofs = []\n",
    "errs = []\n",
    "\n",
    "for h in np.logspace(-0.8, 0.5, 10):\n",
    "    print(f\"Solving problem with h={h}\")\n",
    "    uh, V, domain = solve_cook(h)\n",
    "    cell = find_cell_for_one_point(domain, point)\n",
    "    this_val = uh.eval(point, cell)\n",
    "    uh_vals.append(this_val)\n",
    "    ndofs.append(n_dofs(V))\n",
    "    errs.append(np.linalg.norm(exact_value-this_val))"
   ]
  },
  {
   "cell_type": "markdown",
   "metadata": {},
   "source": [
    "We plot the behaviour of the error vs. the number of degrees of freedom of the numerical method"
   ]
  },
  {
   "cell_type": "code",
   "execution_count": 19,
   "metadata": {},
   "outputs": [
    {
     "data": {
      "text/plain": [
       "Text(0, 0.5, '$\\\\|\\\\cdot\\\\|_2$ norm of the error at the selected point')"
      ]
     },
     "execution_count": 19,
     "metadata": {},
     "output_type": "execute_result"
    },
    {
     "data": {
      "image/png": "[encoded data removed]",
      "text/plain": [
       "<Figure size 640x480 with 1 Axes>"
      ]
     },
     "metadata": {},
     "output_type": "display_data"
    }
   ],
   "source": [
    "import matplotlib.pyplot as plt\n",
    "\n",
    "plt.plot(ndofs, errs, '.-')\n",
    "plt.xlabel(\"Number of degrees of freedom of the FE space\")\n",
    "plt.ylabel(\"$\\|\\cdot\\|_2$ norm of the error at the selected point\")"
   ]
  },
  {
   "cell_type": "markdown",
   "metadata": {},
   "source": [
    "Since the convergence is fast (in particular, it is algebraic: there exists $\\alpha>0$ such that $\\mathrm{err}\\sim N^{-\\alpha}$, it can be better visualized if we do the plot in a log-log scale"
   ]
  },
  {
   "cell_type": "code",
   "execution_count": 20,
   "metadata": {},
   "outputs": [
    {
     "data": {
      "text/plain": [
       "Text(0, 0.5, '$\\\\|\\\\cdot\\\\|_2$ norm of the error at the selected point')"
      ]
     },
     "execution_count": 20,
     "metadata": {},
     "output_type": "execute_result"
    },
    {
     "data": {
      "image/png": "[encoded data removed]",
      "text/plain": [
       "<Figure size 640x480 with 1 Axes>"
      ]
     },
     "metadata": {},
     "output_type": "display_data"
    }
   ],
   "source": [
    "plt.loglog(ndofs, errs, '.-')\n",
    "plt.xlabel(\"Number of degrees of freedom of the FE space\")\n",
    "plt.ylabel(\"$\\|\\cdot\\|_2$ norm of the error at the selected point\")"
   ]
  }
 ],
 "metadata": {
  "jupytext": {
   "formats": "ipynb,py:light"
  },
  "kernelspec": {
   "display_name": "MEFA-2024",
   "language": "python",
   "name": "python3"
  },
  "language_info": {
   "codemirror_mode": {
    "name": "ipython",
    "version": 3
   },
   "file_extension": ".py",
   "mimetype": "text/x-python",
   "name": "python",
   "nbconvert_exporter": "python",
   "pygments_lexer": "ipython3",
   "version": "3.12.6"
  }
 },
 "nbformat": 4,
 "nbformat_minor": 4
}
