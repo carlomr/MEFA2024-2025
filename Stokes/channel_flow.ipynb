{
 "cells": [
  {
   "cell_type": "markdown",
   "id": "17018b0f",
   "metadata": {},
   "source": [
    "# Stokes equations using Taylor-Hood elements\n",
    "\n",
    "This demo is implemented in {download}`demo_stokes.py`. It shows how\n",
    "to solve the Stokes problem using Taylor-Hood elements using different\n",
    "linear solvers.\n",
    "\n",
    "## Equation and problem definition\n",
    "\n",
    "### Strong formulation\n",
    "\n",
    "$$\n",
    "\\begin{aligned}\n",
    "  - \\nabla \\cdot (\\nabla u - p I) &= f \\quad {\\rm in} \\ \\Omega,\\\\\n",
    "  \\nabla \\cdot u &= 0 \\quad {\\rm in} \\ \\Omega.\n",
    "\\end{aligned}\n",
    "$$\n",
    "\n",
    "with conditions on the boundary $\\partial \\Omega = \\Gamma_{D} \\cup\n",
    "\\Gamma_{N}$ of the form:\n",
    "\n",
    "$$\n",
    "\\begin{aligned}\n",
    "  u &= u_0 \\quad {\\rm on} \\ \\Gamma_{D},\\\\\n",
    "  \\nabla u \\cdot n - p n &= g \\,   \\quad\\;\\; {\\rm on} \\ \\Gamma_{N}.\n",
    "\\end{aligned}\n",
    "$$\n",
    "\n",
    "### Weak formulation\n",
    "\n",
    "The weak formulation reads: find $(u, p) \\in V \\times Q$ such that\n",
    "\n",
    "$$\n",
    "a((u, p), (v, q)) = L((v, q)) \\quad \\forall  (v, q) \\in V \\times Q\n",
    "$$\n",
    "\n",
    "where\n",
    "\n",
    "$$\n",
    "\\begin{aligned}\n",
    "  a((u, p), (v, q)) &:= \\int_{\\Omega} \\nabla u \\cdot \\nabla v -\n",
    "           \\nabla \\cdot v \\ p + \\nabla \\cdot u \\ q \\, {\\rm d} x,\\\\\n",
    "  L((v, q)) &:= \\int_{\\Omega} f \\cdot v \\, {\\rm d} x + \\int_{\\partial\n",
    "           \\Omega_N} g \\cdot v \\, {\\rm d} s.\n",
    "\\end{aligned}\n",
    "$$\n",
    "\n",
    "### Domain and boundary conditions\n",
    "\n",
    "We consider the lid-driven cavity problem with the following\n",
    "domain and boundary conditions:\n",
    "\n",
    "- $\\Omega := [0,L]\\times[0,1]$ \n",
    "- $\\Gamma_D := \\partial \\Omega \\setminus \\{x_1=L, x_2\\in (0,1)\\}$\n",
    "- $u_0 := (x_2(1-x_2), 0)^\\top$ at $x_1 = 0$ (inflow of the channel) and $u_0 = (0, 0)^\\top$ for $x_2 \\in\\{0, 1\\}$ (top and bottom) \n",
    "- $f := (0, 0)^\\top$\n",
    "\n",
    "\n",
    "\n",
    "The required modules are first imported:"
   ]
  },
  {
   "cell_type": "code",
   "execution_count": 33,
   "id": "5d9267ff",
   "metadata": {},
   "outputs": [],
   "source": [
    "from mpi4py import MPI\n",
    "from petsc4py import PETSc\n",
    "import numpy as np\n",
    "import ufl\n",
    "from basix.ufl import element, mixed_element\n",
    "from dolfinx import default_real_type, fem, la\n",
    "from dolfinx.fem import (\n",
    "    Constant,\n",
    "    Function,\n",
    "    dirichletbc,\n",
    "    extract_function_spaces,\n",
    "    form,\n",
    "    functionspace,\n",
    "    locate_dofs_topological,\n",
    ")\n",
    "from dolfinx.mesh import CellType, create_rectangle, locate_entities_boundary\n",
    "from dolfinx.plot import vtk_mesh\n",
    "from ufl import div, dx, grad, inner\n",
    "import pyvista"
   ]
  },
  {
   "cell_type": "markdown",
   "id": "396e09bd",
   "metadata": {},
   "source": [
    "We create a {py:class}`Mesh <dolfinx.mesh.Mesh>`, define functions for\n",
    "locating geometrically subsets of the boundary, and define a function\n",
    "for the  velocity on the lid:"
   ]
  },
  {
   "cell_type": "code",
   "execution_count": null,
   "id": "b32b764a",
   "metadata": {
    "lines_to_end_of_cell_marker": 2
   },
   "outputs": [],
   "source": [
    "L = 4\n",
    "# Create mesh\n",
    "msh = create_rectangle(\n",
    "    MPI.COMM_WORLD, [np.array([0, 0]), np.array([L, 1])], [16*L, 16], CellType.triangle\n",
    ")\n",
    "\n",
    "# Function to mark x = 0, x = 1 and y = 0\n",
    "def noslip_boundary(x):\n",
    "    return np.isclose(x[1], 0.0) | np.isclose(x[1], 1.0) \n",
    "\n",
    "# Function to mark the inflow\n",
    "def inflow(x):\n",
    "    return np.isclose(x[0], 0.0)\n",
    "\n",
    "# Inflow velocity\n",
    "# def inflow_velocity_expression(x):\n",
    "    # return np.stack(( x[1]*(1-x[1]), np.zeros(x.shape[1])))\n",
    "def inflow_velocity_expression(x):\n",
    "    return np.stack(( np.ones(x.shape[1]), np.zeros(x.shape[1])))"
   ]
  },
  {
   "cell_type": "markdown",
   "id": "fce7000a",
   "metadata": {
    "lines_to_next_cell": 2
   },
   "source": [
    "Two {py:class}`function spaces <dolfinx.fem.FunctionSpace>` are\n",
    "defined using different finite elements. `P2` corresponds to a\n",
    "continuous piecewise quadratic basis (vector) and `P1` to a continuous\n",
    "piecewise linear basis (scalar)."
   ]
  },
  {
   "cell_type": "code",
   "execution_count": 35,
   "id": "f3064a36",
   "metadata": {},
   "outputs": [],
   "source": [
    "P2 = element(\"Lagrange\", msh.basix_cell(), 2, shape=(msh.geometry.dim,), dtype=default_real_type)\n",
    "P1 = element(\"Lagrange\", msh.basix_cell(), 1, dtype=default_real_type)\n",
    "V, Q = functionspace(msh, P2), functionspace(msh, P1)"
   ]
  },
  {
   "cell_type": "markdown",
   "id": "29376d3e",
   "metadata": {},
   "source": [
    "Boundary conditions for the velocity field are defined:"
   ]
  },
  {
   "cell_type": "code",
   "execution_count": 36,
   "id": "92e8f673",
   "metadata": {},
   "outputs": [
    {
     "ename": "ValueError",
     "evalue": "all input arrays must have the same shape",
     "output_type": "error",
     "traceback": [
      "\u001b[0;31m---------------------------------------------------------------------------\u001b[0m",
      "\u001b[0;31mTypeError\u001b[0m                                 Traceback (most recent call last)",
      "File \u001b[0;32m~/opt/miniconda3/envs/MEFA-2024/lib/python3.12/site-packages/dolfinx/fem/function.py:459\u001b[0m, in \u001b[0;36mFunction.interpolate\u001b[0;34m(self, u0, cells0, cells1)\u001b[0m\n\u001b[1;32m    457\u001b[0m \u001b[38;5;28;01mtry\u001b[39;00m:\n\u001b[1;32m    458\u001b[0m     \u001b[38;5;66;03m# u is a Function or Expression (or pointer to one)\u001b[39;00m\n\u001b[0;32m--> 459\u001b[0m     _interpolate(u0)\n\u001b[1;32m    460\u001b[0m \u001b[38;5;28;01mexcept\u001b[39;00m \u001b[38;5;167;01mTypeError\u001b[39;00m:\n\u001b[1;32m    461\u001b[0m     \u001b[38;5;66;03m# u0 is callable\u001b[39;00m\n",
      "File \u001b[0;32m~/opt/miniconda3/envs/MEFA-2024/lib/python3.12/functools.py:907\u001b[0m, in \u001b[0;36msingledispatch.<locals>.wrapper\u001b[0;34m(*args, **kw)\u001b[0m\n\u001b[1;32m    904\u001b[0m     \u001b[38;5;28;01mraise\u001b[39;00m \u001b[38;5;167;01mTypeError\u001b[39;00m(\u001b[38;5;124mf\u001b[39m\u001b[38;5;124m'\u001b[39m\u001b[38;5;132;01m{\u001b[39;00mfuncname\u001b[38;5;132;01m}\u001b[39;00m\u001b[38;5;124m requires at least \u001b[39m\u001b[38;5;124m'\u001b[39m\n\u001b[1;32m    905\u001b[0m                     \u001b[38;5;124m'\u001b[39m\u001b[38;5;124m1 positional argument\u001b[39m\u001b[38;5;124m'\u001b[39m)\n\u001b[0;32m--> 907\u001b[0m \u001b[38;5;28;01mreturn\u001b[39;00m dispatch(args[\u001b[38;5;241m0\u001b[39m]\u001b[38;5;241m.\u001b[39m\u001b[38;5;18m__class__\u001b[39m)(\u001b[38;5;241m*\u001b[39margs, \u001b[38;5;241m*\u001b[39m\u001b[38;5;241m*\u001b[39mkw)\n",
      "File \u001b[0;32m~/opt/miniconda3/envs/MEFA-2024/lib/python3.12/site-packages/dolfinx/fem/function.py:440\u001b[0m, in \u001b[0;36mFunction.interpolate.<locals>._interpolate\u001b[0;34m(u0)\u001b[0m\n\u001b[1;32m    439\u001b[0m \u001b[38;5;250m\u001b[39m\u001b[38;5;124;03m\"\"\"Interpolate a cpp.fem.Function.\"\"\"\u001b[39;00m\n\u001b[0;32m--> 440\u001b[0m \u001b[38;5;28mself\u001b[39m\u001b[38;5;241m.\u001b[39m_cpp_object\u001b[38;5;241m.\u001b[39minterpolate(u0, cells0, cells1)\n",
      "\u001b[0;31mTypeError\u001b[0m: interpolate(): incompatible function arguments. The following argument types are supported:\n    1. interpolate(self, f: ndarray[dtype=float64, writable=False, shape=(*), order='C'], cells: ndarray[dtype=int32, writable=False, shape=(*), order='C']) -> None\n    2. interpolate(self, f: ndarray[dtype=float64, writable=False, shape=(*, *), order='C'], cells: ndarray[dtype=int32, writable=False, shape=(*), order='C']) -> None\n    3. interpolate(self, u: dolfinx.cpp.fem.Function_float64, cells0: ndarray[dtype=int32, writable=False, shape=(*), order='C'], cells1: ndarray[dtype=int32, writable=False, shape=(*), order='C']) -> None\n    4. interpolate(self, u: dolfinx.cpp.fem.Function_float64, cells: ndarray[dtype=int32, writable=False, shape=(*), order='C'], interpolation_data: dolfinx.cpp.geometry.PointOwnershipData_float64) -> None\n    5. interpolate(self, e0: dolfinx.cpp.fem.Expression_float64, cells0: ndarray[dtype=int32, writable=False, order='C'], cells1: ndarray[dtype=int32, writable=False, order='C']) -> None\n\nInvoked with types: dolfinx.cpp.fem.Function_float64, function, ndarray, ndarray",
      "\nDuring handling of the above exception, another exception occurred:\n",
      "\u001b[0;31mValueError\u001b[0m                                Traceback (most recent call last)",
      "Cell \u001b[0;32mIn[36], line 8\u001b[0m\n\u001b[1;32m      6\u001b[0m \u001b[38;5;66;03m# Driving (lid) velocity condition on top boundary (y = 1)\u001b[39;00m\n\u001b[1;32m      7\u001b[0m lid_velocity \u001b[38;5;241m=\u001b[39m Function(V)\n\u001b[0;32m----> 8\u001b[0m lid_velocity\u001b[38;5;241m.\u001b[39minterpolate(inflow_velocity_expression)\n\u001b[1;32m      9\u001b[0m facets \u001b[38;5;241m=\u001b[39m locate_entities_boundary(msh, \u001b[38;5;241m1\u001b[39m, inflow)\n\u001b[1;32m     10\u001b[0m bc1 \u001b[38;5;241m=\u001b[39m dirichletbc(lid_velocity, locate_dofs_topological(V, \u001b[38;5;241m1\u001b[39m, facets))\n",
      "File \u001b[0;32m~/opt/miniconda3/envs/MEFA-2024/lib/python3.12/site-packages/dolfinx/fem/function.py:466\u001b[0m, in \u001b[0;36mFunction.interpolate\u001b[0;34m(self, u0, cells0, cells1)\u001b[0m\n\u001b[1;32m    462\u001b[0m \u001b[38;5;28;01massert\u001b[39;00m \u001b[38;5;28mcallable\u001b[39m(u0)\n\u001b[1;32m    463\u001b[0m x \u001b[38;5;241m=\u001b[39m _cpp\u001b[38;5;241m.\u001b[39mfem\u001b[38;5;241m.\u001b[39minterpolation_coords(\n\u001b[1;32m    464\u001b[0m     \u001b[38;5;28mself\u001b[39m\u001b[38;5;241m.\u001b[39m_V\u001b[38;5;241m.\u001b[39melement, \u001b[38;5;28mself\u001b[39m\u001b[38;5;241m.\u001b[39m_V\u001b[38;5;241m.\u001b[39mmesh\u001b[38;5;241m.\u001b[39mgeometry\u001b[38;5;241m.\u001b[39m_cpp_object, cells0\n\u001b[1;32m    465\u001b[0m )\n\u001b[0;32m--> 466\u001b[0m \u001b[38;5;28mself\u001b[39m\u001b[38;5;241m.\u001b[39m_cpp_object\u001b[38;5;241m.\u001b[39minterpolate(np\u001b[38;5;241m.\u001b[39masarray(u0(x), dtype\u001b[38;5;241m=\u001b[39m\u001b[38;5;28mself\u001b[39m\u001b[38;5;241m.\u001b[39mdtype), cells0)\n",
      "Cell \u001b[0;32mIn[34], line 19\u001b[0m, in \u001b[0;36minflow_velocity_expression\u001b[0;34m(x)\u001b[0m\n\u001b[1;32m     18\u001b[0m \u001b[38;5;28;01mdef\u001b[39;00m \u001b[38;5;21minflow_velocity_expression\u001b[39m(x):\n\u001b[0;32m---> 19\u001b[0m     \u001b[38;5;28;01mreturn\u001b[39;00m np\u001b[38;5;241m.\u001b[39mstack(( np\u001b[38;5;241m.\u001b[39mones(x\u001b[38;5;241m.\u001b[39mshape[\u001b[38;5;241m0\u001b[39m]), np\u001b[38;5;241m.\u001b[39mzeros(x\u001b[38;5;241m.\u001b[39mshape[\u001b[38;5;241m1\u001b[39m])))\n",
      "File \u001b[0;32m~/opt/miniconda3/envs/MEFA-2024/lib/python3.12/site-packages/numpy/core/shape_base.py:449\u001b[0m, in \u001b[0;36mstack\u001b[0;34m(arrays, axis, out, dtype, casting)\u001b[0m\n\u001b[1;32m    447\u001b[0m shapes \u001b[38;5;241m=\u001b[39m {arr\u001b[38;5;241m.\u001b[39mshape \u001b[38;5;28;01mfor\u001b[39;00m arr \u001b[38;5;129;01min\u001b[39;00m arrays}\n\u001b[1;32m    448\u001b[0m \u001b[38;5;28;01mif\u001b[39;00m \u001b[38;5;28mlen\u001b[39m(shapes) \u001b[38;5;241m!=\u001b[39m \u001b[38;5;241m1\u001b[39m:\n\u001b[0;32m--> 449\u001b[0m     \u001b[38;5;28;01mraise\u001b[39;00m \u001b[38;5;167;01mValueError\u001b[39;00m(\u001b[38;5;124m'\u001b[39m\u001b[38;5;124mall input arrays must have the same shape\u001b[39m\u001b[38;5;124m'\u001b[39m)\n\u001b[1;32m    451\u001b[0m result_ndim \u001b[38;5;241m=\u001b[39m arrays[\u001b[38;5;241m0\u001b[39m]\u001b[38;5;241m.\u001b[39mndim \u001b[38;5;241m+\u001b[39m \u001b[38;5;241m1\u001b[39m\n\u001b[1;32m    452\u001b[0m axis \u001b[38;5;241m=\u001b[39m normalize_axis_index(axis, result_ndim)\n",
      "\u001b[0;31mValueError\u001b[0m: all input arrays must have the same shape"
     ]
    }
   ],
   "source": [
    "# No-slip condition on boundaries where y=0 or y=1 \n",
    "noslip = np.zeros(msh.geometry.dim, dtype=PETSc.ScalarType)  \n",
    "facets = locate_entities_boundary(msh, 1, noslip_boundary)\n",
    "bc0 = dirichletbc(noslip, locate_dofs_topological(V, 1, facets), V)\n",
    "\n",
    "# Driving (lid) velocity condition on top boundary (y = 1)\n",
    "lid_velocity = Function(V)\n",
    "lid_velocity.interpolate(inflow_velocity_expression)\n",
    "facets = locate_entities_boundary(msh, 1, inflow)\n",
    "bc1 = dirichletbc(lid_velocity, locate_dofs_topological(V, 1, facets))\n",
    "\n",
    "# Collect Dirichlet boundary conditions\n",
    "bcs = [bc0, bc1]"
   ]
  },
  {
   "cell_type": "markdown",
   "id": "b4ae70fc",
   "metadata": {},
   "source": [
    "Function for plotting the flow and pressure"
   ]
  },
  {
   "cell_type": "code",
   "execution_count": null,
   "id": "2f190122",
   "metadata": {},
   "outputs": [],
   "source": [
    "def plot(u, p):\n",
    "    # pyvista.start_xvfb()\n",
    "    V = u.function_space\n",
    "    msh = V.mesh\n",
    "    topology, cell_types, geometry = vtk_mesh(V)\n",
    "    values = np.zeros((geometry.shape[0], 3), dtype=np.float64)\n",
    "    values[:, :len(u)] = u.x.array.real.reshape((geometry.shape[0], len(u)))\n",
    "\n",
    "    # Create a point cloud of glyphs\n",
    "    function_grid = pyvista.UnstructuredGrid(topology, cell_types, geometry)\n",
    "    function_grid[\"u\"] = values\n",
    "    glyphs = function_grid.glyph(orient=\"u\", factor=0.4)\n",
    "\n",
    "\n",
    "\n",
    "    # Create a pyvista-grid for the mesh\n",
    "    msh.topology.create_connectivity(msh.topology.dim, msh.topology.dim)\n",
    "    grid = pyvista.UnstructuredGrid(*vtk_mesh(msh, msh.topology.dim))\n",
    "\n",
    "    grid.point_data[\"p\"] = p.x.array.real\n",
    "    grid.set_active_scalars(\"p\")\n",
    "    # Create plotter\n",
    "    plotter = pyvista.Plotter()\n",
    "    plotter.add_mesh(grid, cmap='Greys')\n",
    "    plotter.add_mesh(glyphs)\n",
    "    plotter.view_xy()\n",
    "    if not pyvista.OFF_SCREEN:\n",
    "        plotter.show()\n",
    "    else:\n",
    "        plotter.screenshot(\"glyphs.png\")\n"
   ]
  },
  {
   "cell_type": "markdown",
   "id": "667c9265",
   "metadata": {
    "lines_to_next_cell": 2
   },
   "source": [
    "We now solve the Stokes problem, but using monolithic matrix with the\n",
    "velocity and pressure degrees of freedom interleaved, i.e. without any\n",
    "u/p block structure in the assembled matrix. A direct (LU) solver is\n",
    "used."
   ]
  },
  {
   "cell_type": "code",
   "execution_count": null,
   "id": "0d694f3c",
   "metadata": {},
   "outputs": [
    {
     "data": {
      "application/vnd.jupyter.widget-view+json": {
       "model_id": "dd59eb193b784ff0bc7a141efb7f234f",
       "version_major": 2,
       "version_minor": 0
      },
      "text/plain": [
       "Widget(value='<iframe src=\"http://localhost:59255/index.html?ui=P_0x341cc1520_4&reconnect=auto\" class=\"pyvista…"
      ]
     },
     "metadata": {},
     "output_type": "display_data"
    }
   ],
   "source": [
    "# Create the Taylot-Hood function space\n",
    "TH = mixed_element([P2, P1])\n",
    "W = functionspace(msh, TH)\n",
    "\n",
    "# No slip boundary condition\n",
    "W0 = W.sub(0)\n",
    "Q, _ = W0.collapse()\n",
    "noslip = Function(Q)\n",
    "facets = locate_entities_boundary(msh, 1, noslip_boundary)\n",
    "dofs = locate_dofs_topological((W0, Q), 1, facets)\n",
    "bc0 = dirichletbc(noslip, dofs, W0)\n",
    "\n",
    "# Driving velocity condition u = (1, 0) on top boundary (y = 1)\n",
    "inflow_velocity = Function(Q)\n",
    "inflow_velocity.interpolate(inflow_velocity_expression)\n",
    "facets = locate_entities_boundary(msh, 1, inflow)\n",
    "dofs = locate_dofs_topological((W0, Q), 1, facets)\n",
    "bc1 = dirichletbc(inflow_velocity, dofs, W0)\n",
    "\n",
    "# Collect Dirichlet boundary conditions\n",
    "bcs = [bc0, bc1]\n",
    "\n",
    "# Define variational problem\n",
    "(u, p) = ufl.TrialFunctions(W)\n",
    "(v, q) = ufl.TestFunctions(W)\n",
    "f = Function(Q)\n",
    "a = form((inner(grad(u), grad(v)) - inner(p, div(v)) - inner(div(u), q)) * dx)\n",
    "L = form(inner(f, v) * dx)\n",
    "\n",
    "# Assemble LHS matrix and RHS vector\n",
    "A = fem.petsc.assemble_matrix(a, bcs=bcs)\n",
    "A.assemble()\n",
    "b = fem.petsc.assemble_vector(L)\n",
    "\n",
    "fem.petsc.apply_lifting(b, [a], bcs=[bcs])\n",
    "b.ghostUpdate(addv=PETSc.InsertMode.ADD, mode=PETSc.ScatterMode.REVERSE)\n",
    "\n",
    "# Set Dirichlet boundary condition values in the RHS\n",
    "for bc in bcs:\n",
    "    bc.set(b)\n",
    "\n",
    "# Create and configure solver\n",
    "ksp = PETSc.KSP().create(msh.comm)\n",
    "ksp.setOperators(A)\n",
    "ksp.setType(\"preonly\")\n",
    "\n",
    "# Configure MUMPS to handle pressure nullspace\n",
    "pc = ksp.getPC()\n",
    "pc.setType(\"lu\")\n",
    "pc.setFactorSolverType(\"superlu_dist\")\n",
    "\n",
    "# Compute the solution\n",
    "U = Function(W)\n",
    "try:\n",
    "    ksp.solve(b, U.x.petsc_vec)\n",
    "except PETSc.Error as e:\n",
    "    if e.ierr == 92:\n",
    "        print(\"The required PETSc solver/preconditioner is not available. Exiting.\")\n",
    "        print(e)\n",
    "        exit(0)\n",
    "    else:\n",
    "        raise e\n",
    "\n",
    "# Split the mixed solution and collapse\n",
    "u, p = U.sub(0).collapse(), U.sub(1).collapse()\n",
    "\n",
    "plot(u, p)"
   ]
  }
 ],
 "metadata": {
  "jupytext": {
   "main_language": "python"
  },
  "kernelspec": {
   "display_name": "MEFA-2024",
   "language": "python",
   "name": "python3"
  },
  "language_info": {
   "codemirror_mode": {
    "name": "ipython",
    "version": 3
   },
   "file_extension": ".py",
   "mimetype": "text/x-python",
   "name": "python",
   "nbconvert_exporter": "python",
   "pygments_lexer": "ipython3",
   "version": "3.12.6"
  }
 },
 "nbformat": 4,
 "nbformat_minor": 5
}
