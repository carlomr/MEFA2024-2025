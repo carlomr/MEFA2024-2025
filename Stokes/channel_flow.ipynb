{
 "cells": [
  {
   "cell_type": "markdown",
   "id": "17018b0f",
   "metadata": {},
   "source": [
    "# Stokes equations using Taylor-Hood elements\n",
    "\n",
    "This demo is implemented in {download}`demo_stokes.py`. It shows how\n",
    "to solve the Stokes problem using Taylor-Hood elements using different\n",
    "linear solvers.\n",
    "\n",
    "## Equation and problem definition\n",
    "\n",
    "### Strong formulation\n",
    "\n",
    "$$\n",
    "\\begin{aligned}\n",
    "  - \\nabla \\cdot (\\nabla u - p I) &= f \\quad {\\rm in} \\ \\Omega,\\\\\n",
    "  \\nabla \\cdot u &= 0 \\quad {\\rm in} \\ \\Omega.\n",
    "\\end{aligned}\n",
    "$$\n",
    "\n",
    "with conditions on the boundary $\\partial \\Omega = \\Gamma_{D} \\cup\n",
    "\\Gamma_{N}$ of the form:\n",
    "\n",
    "$$\n",
    "\\begin{aligned}\n",
    "  u &= u_0 \\quad {\\rm on} \\ \\Gamma_{D},\\\\\n",
    "  \\nabla u \\cdot n - p n &= g \\,   \\quad\\;\\; {\\rm on} \\ \\Gamma_{N}.\n",
    "\\end{aligned}\n",
    "$$\n",
    "\n",
    "### Weak formulation\n",
    "\n",
    "The weak formulation reads: find $(u, p) \\in V \\times Q$ such that\n",
    "\n",
    "$$\n",
    "a((u, p), (v, q)) = L((v, q)) \\quad \\forall  (v, q) \\in V \\times Q\n",
    "$$\n",
    "\n",
    "where\n",
    "\n",
    "$$\n",
    "\\begin{aligned}\n",
    "  a((u, p), (v, q)) &:= \\int_{\\Omega} \\nabla u \\cdot \\nabla v -\n",
    "           \\nabla \\cdot v \\ p - \\nabla \\cdot u \\ q \\, {\\rm d} x,\\\\\n",
    "  L((v, q)) &:= \\int_{\\Omega} f \\cdot v \\, {\\rm d} x + \\int_{\\partial\n",
    "           \\Omega_N} g \\cdot v \\, {\\rm d} s.\n",
    "\\end{aligned}\n",
    "$$\n",
    "\n",
    "### Domain and boundary conditions\n",
    "\n",
    "We consider the lid-driven cavity problem with the following\n",
    "domain and boundary conditions:\n",
    "\n",
    "- $\\Omega := [0,L]\\times[0,1]$ \n",
    "- $\\Gamma_D := \\partial \\Omega \\setminus \\{x_1=L, x_2\\in (0,1)\\}$\n",
    "- $u_0 := (x_2(1-x_2), 0)^\\top$ at $x_1 = 0$ (inflow of the channel) and $u_0 = (0, 0)^\\top$ for $x_2 \\in\\{0, 1\\}$ (top and bottom) \n",
    "- $f := (0, 0)^\\top$\n",
    "- $g :=(0, 0)^\\top$\n",
    "\n",
    "\n",
    "\n",
    "The required modules are first imported:"
   ]
  },
  {
   "cell_type": "code",
   "execution_count": null,
   "id": "5d9267ff",
   "metadata": {},
   "outputs": [],
   "source": [
    "from mpi4py import MPI\n",
    "from petsc4py import PETSc\n",
    "import numpy as np\n",
    "import ufl\n",
    "from basix.ufl import element, mixed_element\n",
    "from dolfinx import default_real_type, fem, la\n",
    "from dolfinx.fem import (\n",
    "    Constant,\n",
    "    Function,\n",
    "    dirichletbc,\n",
    "    extract_function_spaces,\n",
    "    form,\n",
    "    functionspace,\n",
    "    locate_dofs_topological,\n",
    "    petsc\n",
    ")\n",
    "\n",
    "from dolfinx.mesh import CellType, create_rectangle, locate_entities_boundary\n",
    "from dolfinx.plot import vtk_mesh\n",
    "from ufl import div, dx, grad, inner\n",
    "import pyvista\n",
    "# pyvista.set_jupyter_backend('html')\n",
    "pyvista.start_xvfb()"
   ]
  },
  {
   "cell_type": "markdown",
   "id": "396e09bd",
   "metadata": {},
   "source": [
    "We create a {py:class}`Mesh <dolfinx.mesh.Mesh>`, define functions for\n",
    "locating geometrically subsets of the boundary, and define a function\n",
    "for the  velocity on the lid:"
   ]
  },
  {
   "cell_type": "code",
   "execution_count": 39,
   "id": "b32b764a",
   "metadata": {
    "lines_to_end_of_cell_marker": 2
   },
   "outputs": [],
   "source": [
    "L = 4\n",
    "# Create mesh\n",
    "msh = create_rectangle(\n",
    "    MPI.COMM_WORLD, [np.array([0, 0]), np.array([L, 1])], [16*L, 16], CellType.triangle\n",
    ")\n",
    "\n",
    "# Function to mark x = 0, x = 1 and y = 0\n",
    "def noslip_boundary(x):\n",
    "    return np.isclose(x[1], 0.0) | np.isclose(x[1], 1.0) \n",
    "\n",
    "# Function to mark the inflow\n",
    "def inflow(x):\n",
    "    return np.isclose(x[0], 0.0)\n",
    "\n",
    "# Inflow velocity\n",
    "# def inflow_velocity_expression(x):\n",
    "    # return np.stack(( x[1]*(1-x[1]), np.zeros(x.shape[1])))\n",
    "def inflow_velocity_expression(x):\n",
    "    return np.stack(( 1./2*np.ones(x.shape[1]), np.zeros(x.shape[1])))"
   ]
  },
  {
   "cell_type": "markdown",
   "id": "fce7000a",
   "metadata": {
    "lines_to_next_cell": 2
   },
   "source": [
    "Two {py:class}`function spaces <dolfinx.fem.FunctionSpace>` are\n",
    "defined using different finite elements. `P2` corresponds to a\n",
    "continuous piecewise quadratic basis (vector) and `P1` to a continuous\n",
    "piecewise linear basis (scalar)."
   ]
  },
  {
   "cell_type": "code",
   "execution_count": 40,
   "id": "f3064a36",
   "metadata": {},
   "outputs": [],
   "source": [
    "P2 = element(\"Lagrange\", msh.basix_cell(), 2, shape=(msh.geometry.dim,), dtype=default_real_type)\n",
    "P1 = element(\"Lagrange\", msh.basix_cell(), 1, dtype=default_real_type)\n",
    "V, Q = functionspace(msh, P2), functionspace(msh, P1)"
   ]
  },
  {
   "cell_type": "markdown",
   "id": "29376d3e",
   "metadata": {},
   "source": [
    "Boundary conditions for the velocity field are defined:"
   ]
  },
  {
   "cell_type": "code",
   "execution_count": 41,
   "id": "92e8f673",
   "metadata": {},
   "outputs": [],
   "source": [
    "# No-slip condition on boundaries where y=0 or y=1 \n",
    "noslip = np.zeros(msh.geometry.dim, dtype=PETSc.ScalarType)  \n",
    "facets = locate_entities_boundary(msh, 1, noslip_boundary)\n",
    "bc0 = dirichletbc(noslip, locate_dofs_topological(V, 1, facets), V)\n",
    "\n",
    "# Driving (lid) velocity condition on top boundary (y = 1)\n",
    "lid_velocity = Function(V)\n",
    "lid_velocity.interpolate(inflow_velocity_expression)\n",
    "facets = locate_entities_boundary(msh, 1, inflow)\n",
    "bc1 = dirichletbc(lid_velocity, locate_dofs_topological(V, 1, facets))\n",
    "\n",
    "# Collect Dirichlet boundary conditions\n",
    "bcs = [bc0, bc1]"
   ]
  },
  {
   "cell_type": "markdown",
   "id": "b4ae70fc",
   "metadata": {},
   "source": [
    "Function for plotting the flow and pressure"
   ]
  },
  {
   "cell_type": "code",
   "execution_count": null,
   "id": "2f190122",
   "metadata": {},
   "outputs": [],
   "source": [
    "def plot(u, p):\n",
    "    V = u.function_space\n",
    "    msh = V.mesh\n",
    "    topology, cell_types, geometry = vtk_mesh(V)\n",
    "    values = np.zeros((geometry.shape[0], 3), dtype=np.float64)\n",
    "    values[:, :len(u)] = u.x.array.real.reshape((geometry.shape[0], len(u)))\n",
    "\n",
    "    # Create a point cloud of glyphs\n",
    "    function_grid = pyvista.UnstructuredGrid(topology, cell_types, geometry)\n",
    "    function_grid[\"u\"] = values\n",
    "    glyphs = function_grid.glyph(orient=\"u\", factor=0.4)\n",
    "\n",
    "\n",
    "\n",
    "    # Create a pyvista-grid for the mesh\n",
    "    msh.topology.create_connectivity(msh.topology.dim, msh.topology.dim)\n",
    "    grid = pyvista.UnstructuredGrid(*vtk_mesh(msh, msh.topology.dim))\n",
    "\n",
    "    grid.point_data[\"p\"] = p.x.array.real\n",
    "    grid.set_active_scalars(\"p\")\n",
    "    # Create plotter\n",
    "    plotter = pyvista.Plotter()\n",
    "    plotter.add_mesh(grid, color='black', style=\"wireframe\")\n",
    "    pressure = plotter.add_mesh(grid, cmap=\"Greys\")\n",
    "    flow = plotter.add_mesh(glyphs, name=\"u\")\n",
    "    plotter.view_xy()\n",
    "    \n",
    "    def toggle_vis_p(flag):\n",
    "        pressure.SetVisibility(flag)\n",
    "\n",
    "    def toggle_vis_u(flag):\n",
    "        flow.SetVisibility(flag)\n",
    "    plotter.add_checkbox_button_widget(toggle_vis_p, position=(10, 10), value=True)\n",
    "    plotter.add_checkbox_button_widget(toggle_vis_u, position=(10, 80), value=True)\n",
    "    plotter.add_text('Show/hide pressure', position=(70, 12), color='black', shadow=True, font_size=12)\n",
    "    plotter.add_text('Show/hide flow', position=(70, 82), color='black', shadow=True, font_size=12)\n",
    "\n",
    "    if not pyvista.OFF_SCREEN:\n",
    "        plotter.show()\n",
    "    else:\n",
    "        plotter.screenshot(\"glyphs.png\")\n",
    "    \n",
    "\n",
    "\n"
   ]
  },
  {
   "cell_type": "markdown",
   "id": "667c9265",
   "metadata": {
    "lines_to_next_cell": 2
   },
   "source": [
    "We now solve the Stokes problem, but using monolithic matrix with the\n",
    "velocity and pressure degrees of freedom interleaved, i.e. without any\n",
    "u/p block structure in the assembled matrix. A direct (LU) solver is\n",
    "used."
   ]
  },
  {
   "cell_type": "code",
   "execution_count": 43,
   "id": "0d694f3c",
   "metadata": {},
   "outputs": [
    {
     "data": {
      "application/vnd.jupyter.widget-view+json": {
       "model_id": "bbc13acc779746d7b29ab3df7f25f5cc",
       "version_major": 2,
       "version_minor": 0
      },
      "text/plain": [
       "Widget(value='<iframe src=\"http://localhost:60845/index.html?ui=P_0x3514552e0_6&reconnect=auto\" class=\"pyvista…"
      ]
     },
     "metadata": {},
     "output_type": "display_data"
    }
   ],
   "source": [
    "# Create the Taylot-Hood function space\n",
    "TH = mixed_element([P2, P1])\n",
    "W = functionspace(msh, TH)\n",
    "\n",
    "# No slip boundary condition\n",
    "W0 = W.sub(0)\n",
    "Q, _ = W0.collapse()\n",
    "noslip = Function(Q)\n",
    "facets = locate_entities_boundary(msh, 1, noslip_boundary)\n",
    "dofs = locate_dofs_topological((W0, Q), 1, facets)\n",
    "bc0 = dirichletbc(noslip, dofs, W0)\n",
    "\n",
    "# Driving velocity condition u = (1, 0) on top boundary (y = 1)\n",
    "inflow_velocity = Function(Q)\n",
    "inflow_velocity.interpolate(inflow_velocity_expression)\n",
    "facets = locate_entities_boundary(msh, 1, inflow)\n",
    "dofs = locate_dofs_topological((W0, Q), 1, facets)\n",
    "bc1 = dirichletbc(inflow_velocity, dofs, W0)\n",
    "\n",
    "# Collect Dirichlet boundary conditions\n",
    "bcs = [bc0, bc1]\n",
    "\n",
    "# Define variational problem\n",
    "(u, p) = ufl.TrialFunctions(W)\n",
    "(v, q) = ufl.TestFunctions(W)\n",
    "f = Function(Q)\n",
    "a = form((inner(grad(u), grad(v)) - inner(p, div(v)) - inner(div(u), q)) * dx)\n",
    "L = form(inner(f, v) * dx)\n",
    "\n",
    "# Assemble LHS matrix and RHS vector\n",
    "A = fem.petsc.assemble_matrix(a, bcs=bcs)\n",
    "A.assemble()\n",
    "b = fem.petsc.assemble_vector(L)\n",
    "\n",
    "fem.petsc.apply_lifting(b, [a], bcs=[bcs])\n",
    "b.ghostUpdate(addv=PETSc.InsertMode.ADD, mode=PETSc.ScatterMode.REVERSE)\n",
    "\n",
    "# Set Dirichlet boundary condition values in the RHS\n",
    "for bc in bcs:\n",
    "    bc.set(b)\n",
    "\n",
    "# Create and configure solver\n",
    "ksp = PETSc.KSP().create(msh.comm)\n",
    "ksp.setOperators(A)\n",
    "ksp.setType(\"preonly\")\n",
    "\n",
    "# Configure MUMPS to handle pressure nullspace\n",
    "pc = ksp.getPC()\n",
    "pc.setType(\"lu\")\n",
    "pc.setFactorSolverType(\"superlu_dist\")\n",
    "\n",
    "# Compute the solution\n",
    "U = Function(W)\n",
    "try:\n",
    "    ksp.solve(b, U.x.petsc_vec)\n",
    "except PETSc.Error as e:\n",
    "    if e.ierr == 92:\n",
    "        print(\"The required PETSc solver/preconditioner is not available. Exiting.\")\n",
    "        print(e)\n",
    "        exit(0)\n",
    "    else:\n",
    "        raise e\n",
    "\n",
    "# Split the mixed solution and collapse\n",
    "u, p = U.sub(0).collapse(), U.sub(1).collapse()\n",
    "\n",
    "plot(u, p)"
   ]
  }
 ],
 "metadata": {
  "jupytext": {
   "main_language": "python"
  },
  "kernelspec": {
   "display_name": "MEFA-2024",
   "language": "python",
   "name": "python3"
  },
  "language_info": {
   "codemirror_mode": {
    "name": "ipython",
    "version": 3
   },
   "file_extension": ".py",
   "mimetype": "text/x-python",
   "name": "python",
   "nbconvert_exporter": "python",
   "pygments_lexer": "ipython3",
   "version": "3.12.6"
  }
 },
 "nbformat": 4,
 "nbformat_minor": 5
}
