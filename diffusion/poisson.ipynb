{
 "cells": [
  {
   "cell_type": "markdown",
   "id": "ee77bc74",
   "metadata": {},
   "source": [
    "# Poisson equation\n",
    "\n",
    "This demo illustrates how to:\n",
    "\n",
    "- Create a `function space <dolfinx.fem.FunctionSpace>`\n",
    "- Solve a linear partial differential equation\n",
    "\n",
    "## Equation and problem definition\n",
    "\n",
    "For a domain $\\Omega \\subset \\mathbb{R}^n$ with boundary $\\partial\n",
    "\\Omega = \\Gamma_{D} \\cup \\Gamma_{N}$, the Poisson equation with\n",
    "particular boundary conditions reads:\n",
    "\n",
    "$$\n",
    "\\begin{align}\n",
    "  - \\Delta u &= f \\quad {\\rm in} \\ \\Omega, \\\\\n",
    "  u &= 0 \\quad {\\rm on} \\ \\Gamma_{D}, \\\\\n",
    "  \\nabla u \\cdot n &= g \\quad {\\rm on} \\ \\Gamma_{N}. \\\\\n",
    "\\end{align}\n",
    "$$\n",
    "\n",
    "where $f$ and $g$ are input data and $n$ denotes the outward directed\n",
    "boundary normal. The variational problem reads: find $u \\in V$ such\n",
    "that\n",
    "\n",
    "$$\n",
    "a(u, v) = L(v) \\quad \\forall \\ v \\in V,\n",
    "$$\n",
    "\n",
    "where $V$ is a suitable function space and\n",
    "\n",
    "$$\n",
    "\\begin{align}\n",
    "  a(u, v) &:= \\int_{\\Omega} \\nabla u \\cdot \\nabla v \\, {\\rm d} x, \\\\\n",
    "  L(v)    &:= \\int_{\\Omega} f v \\, {\\rm d} x + \\int_{\\Gamma_{N}} g v \\, {\\rm d} s.\n",
    "\\end{align}\n",
    "$$\n",
    "\n",
    "The expression $a(u, v)$ is the bilinear form and $L(v)$\n",
    "is the linear form. It is assumed that all functions in $V$\n",
    "satisfy the Dirichlet boundary conditions ($u = 0 \\ {\\rm on} \\\n",
    "\\Gamma_{D}$).\n",
    "\n",
    "In this demo we consider:\n",
    "\n",
    "- $\\Omega = [0,2] \\times [0,1]$ (a rectangle)\n",
    "- $\\Gamma_{D} = \\{(0, y) \\cup (2, y) \\subset \\partial \\Omega\\}$\n",
    "- $\\Gamma_{N} = \\{(x, 0) \\cup (x, 1) \\subset \\partial \\Omega\\}$\n",
    "- $g = \\sin(5x)$\n",
    "- $f = 10\\exp(-((x - 0.5)^2 + (y - 0.5)^2) / 0.02)$\n",
    "\n",
    "## Implementation\n",
    "\n",
    "The modules that will be used are imported:"
   ]
  },
  {
   "cell_type": "code",
   "execution_count": 1,
   "id": "3c0d58da",
   "metadata": {},
   "outputs": [],
   "source": [
    "from mpi4py import MPI\n",
    "from petsc4py.PETSc import ScalarType"
   ]
  },
  {
   "cell_type": "code",
   "execution_count": 2,
   "id": "97c091ab",
   "metadata": {},
   "outputs": [],
   "source": [
    "import numpy as np\n",
    "\n",
    "import ufl\n",
    "from dolfinx import fem, io, mesh, plot\n",
    "from dolfinx.fem.petsc import LinearProblem\n",
    "from ufl import ds, dx, grad, inner\n"
   ]
  },
  {
   "cell_type": "markdown",
   "id": "99322f1b",
   "metadata": {},
   "source": [
    "Note that it is important to first `from mpi4py import MPI` to\n",
    "ensure that MPI is correctly initialised."
   ]
  },
  {
   "cell_type": "markdown",
   "id": "796f59ca",
   "metadata": {},
   "source": [
    "We create a rectangular `Mesh <dolfinx.mesh.Mesh>` using\n",
    "`create_rectangle <dolfinx.mesh.create_rectangle>`, and\n",
    "create a finite element `function space\n",
    "<dolfinx.fem.FunctionSpace>` $V$ on the mesh."
   ]
  },
  {
   "cell_type": "code",
   "execution_count": 3,
   "id": "ccaff8d5",
   "metadata": {},
   "outputs": [],
   "source": [
    "msh = mesh.create_rectangle(\n",
    "    comm=MPI.COMM_WORLD,\n",
    "    points=((0., 0), (1.0, 1.0)),\n",
    "    n=[8]*2,\n",
    "    cell_type=mesh.CellType.triangle,\n",
    ")\n",
    "V = fem.functionspace(msh, (\"Lagrange\", 1))"
   ]
  },
  {
   "cell_type": "markdown",
   "id": "fe6295f3",
   "metadata": {},
   "source": [
    "The second argument to `functionspace\n",
    "<dolfinx.fem.functionspace>` is a tuple `(family, degree)`, where\n",
    "`family` is the finite element family, and `degree` specifies the\n",
    "polynomial degree. In this case `V` is a space of continuous Lagrange\n",
    "finite elements of degree 1.\n",
    "\n",
    "To apply the Dirichlet boundary conditions, we find the mesh facets\n",
    "(entities of topological co-dimension 1) that lie on the boundary\n",
    "$\\Gamma_D$ using `locate_entities_boundary\n",
    "<dolfinx.mesh.locate_entities_boundary>`. The function is provided\n",
    "with a 'marker' function that returns `True` for points `x` on the\n",
    "boundary and `False` otherwise."
   ]
  },
  {
   "cell_type": "code",
   "execution_count": 4,
   "id": "40fd6071",
   "metadata": {},
   "outputs": [],
   "source": [
    "facets = mesh.locate_entities_boundary(\n",
    "    msh,\n",
    "    dim=(msh.topology.dim - 1),\n",
    "    marker=lambda x: np.isclose(x[0], 0) | np.isclose(x[0], 1) | np.isclose(x[1], 0) | np.isclose(x[1], 1.),\n",
    ")\n"
   ]
  },
  {
   "cell_type": "markdown",
   "id": "6b9ed949",
   "metadata": {},
   "source": [
    "We now find the degrees-of-freedom that are associated with the\n",
    "boundary facets using `locate_dofs_topological\n",
    "<dolfinx.fem.locate_dofs_topological>`:"
   ]
  },
  {
   "cell_type": "code",
   "execution_count": 5,
   "id": "a110100c",
   "metadata": {},
   "outputs": [],
   "source": [
    "dofs = fem.locate_dofs_topological(V=V, entity_dim=1, entities=facets)"
   ]
  },
  {
   "cell_type": "markdown",
   "id": "a93eba7e",
   "metadata": {},
   "source": [
    "and use `dirichletbc <dolfinx.fem.dirichletbc>` to create a\n",
    "`DirichletBC <dolfinx.fem.DirichletBC>` class that\n",
    "represents the boundary condition:"
   ]
  },
  {
   "cell_type": "code",
   "execution_count": 6,
   "id": "3c73cba9",
   "metadata": {},
   "outputs": [],
   "source": [
    "bc = fem.dirichletbc(value=ScalarType(0), dofs=dofs, V=V)"
   ]
  },
  {
   "cell_type": "markdown",
   "id": "0df8699e",
   "metadata": {},
   "source": [
    "Next, the variational problem is defined:"
   ]
  },
  {
   "cell_type": "code",
   "execution_count": 7,
   "id": "02f8e858",
   "metadata": {},
   "outputs": [],
   "source": [
    "u = ufl.TrialFunction(V)\n",
    "v = ufl.TestFunction(V)\n",
    "x = ufl.SpatialCoordinate(msh)\n",
    "f = 10 * ufl.exp(-((x[0] - 0.5) ** 2 + (x[1] - 0.5) ** 2) / 0.02)\n",
    "g = ufl.sin(5 * x[0])\n",
    "a = inner(grad(u), grad(v)) * dx\n",
    "L = inner(f, v) * dx + inner(g, v) * ds"
   ]
  },
  {
   "cell_type": "code",
   "execution_count": 8,
   "id": "25023b32",
   "metadata": {},
   "outputs": [
    {
     "data": {
      "application/vnd.jupyter.widget-view+json": {
       "model_id": "1e75e44bf53d4174889a422c5420c0af",
       "version_major": 2,
       "version_minor": 0
      },
      "text/plain": [
       "Widget(value='<iframe src=\"http://localhost:51419/index.html?ui=P_0x123827dd0_0&reconnect=auto\" class=\"pyvista…"
      ]
     },
     "metadata": {},
     "output_type": "display_data"
    },
    {
     "data": {
      "text/plain": [
       "pyvista_ndarray([[[255, 255, 255],\n",
       "                  [255, 255, 255],\n",
       "                  [255, 255, 255],\n",
       "                  ...,\n",
       "                  [255, 255, 255],\n",
       "                  [255, 255, 255],\n",
       "                  [255, 255, 255]],\n",
       "\n",
       "                 [[255, 255, 255],\n",
       "                  [255, 255, 255],\n",
       "                  [255, 255, 255],\n",
       "                  ...,\n",
       "                  [255, 255, 255],\n",
       "                  [255, 255, 255],\n",
       "                  [255, 255, 255]],\n",
       "\n",
       "                 [[255, 255, 255],\n",
       "                  [255, 255, 255],\n",
       "                  [255, 255, 255],\n",
       "                  ...,\n",
       "                  [255, 255, 255],\n",
       "                  [255, 255, 255],\n",
       "                  [255, 255, 255]],\n",
       "\n",
       "                 ...,\n",
       "\n",
       "                 [[255, 255, 255],\n",
       "                  [255, 255, 255],\n",
       "                  [255, 255, 255],\n",
       "                  ...,\n",
       "                  [255, 255, 255],\n",
       "                  [255, 255, 255],\n",
       "                  [255, 255, 255]],\n",
       "\n",
       "                 [[255, 255, 255],\n",
       "                  [255, 255, 255],\n",
       "                  [255, 255, 255],\n",
       "                  ...,\n",
       "                  [255, 255, 255],\n",
       "                  [255, 255, 255],\n",
       "                  [255, 255, 255]],\n",
       "\n",
       "                 [[255, 255, 255],\n",
       "                  [255, 255, 255],\n",
       "                  [255, 255, 255],\n",
       "                  ...,\n",
       "                  [255, 255, 255],\n",
       "                  [255, 255, 255],\n",
       "                  [255, 255, 255]]], dtype=uint8)"
      ]
     },
     "execution_count": 8,
     "metadata": {},
     "output_type": "execute_result"
    }
   ],
   "source": [
    "import pyvista \n",
    "p = pyvista.Plotter()\n",
    "topology, cell_types, dom_geometry = plot.vtk_mesh(V)\n",
    "grid = pyvista.UnstructuredGrid(topology, cell_types, dom_geometry)\n",
    "p.add_mesh(grid, style=\"wireframe\", color=\"k\")\n",
    "p.camera_position = 'xy'\n",
    "p.show()\n",
    "p.screenshot(\"mesh-for-sparsity.png\")\n"
   ]
  },
  {
   "cell_type": "code",
   "execution_count": 9,
   "id": "cc811880",
   "metadata": {},
   "outputs": [
    {
     "name": "stdout",
     "output_type": "stream",
     "text": [
      "Dimensions of the matrix A: (81, 81)\n",
      "Number of nonzero elements of A: 497.0\n",
      "Nonzero/dofs: 6.135802469135802\n"
     ]
    },
    {
     "data": {
      "image/png": "[encoded data removed]",
      "text/plain": [
       "<Figure size 640x480 with 1 Axes>"
      ]
     },
     "metadata": {},
     "output_type": "display_data"
    }
   ],
   "source": [
    "from dolfinx.fem.petsc import assemble_matrix\n",
    "A = assemble_matrix(fem.form(a), bcs=[bc])\n",
    "A.assemble()\n",
    "\n",
    "nnz = A.getInfo()['nz_used']\n",
    "shape = A.getLocalSize()\n",
    "\n",
    "print(f\"Dimensions of the matrix A: {shape}\")\n",
    "print(f\"Number of nonzero elements of A: {nnz}\")\n",
    "print(f\"Nonzero/dofs: {nnz/shape[0]}\")\n",
    "\n",
    "r, c, v = A.getValuesCSR()\n",
    "from scipy.sparse import csr_matrix\n",
    "A_sp = csr_matrix((v, c, r), A.getLocalSize())\n",
    "import matplotlib.pyplot as plt\n",
    "plt.spy(A_sp)\n",
    "plt.savefig(\"sparsity.png\")"
   ]
  },
  {
   "cell_type": "code",
   "execution_count": 10,
   "id": "2ff76717",
   "metadata": {},
   "outputs": [
    {
     "name": "stdout",
     "output_type": "stream",
     "text": [
      "[[1. 0. 0. ... 0. 0. 0.]\n",
      " [0. 1. 0. ... 0. 0. 0.]\n",
      " [0. 0. 1. ... 0. 0. 0.]\n",
      " ...\n",
      " [0. 0. 0. ... 1. 0. 0.]\n",
      " [0. 0. 0. ... 0. 1. 0.]\n",
      " [0. 0. 0. ... 0. 0. 1.]]\n"
     ]
    }
   ],
   "source": [
    "print(A_sp.todense())"
   ]
  },
  {
   "cell_type": "markdown",
   "id": "c9539ee2",
   "metadata": {},
   "source": [
    "A `LinearProblem <dolfinx.fem.petsc.LinearProblem>` object is\n",
    "created that brings together the variational problem, the Dirichlet\n",
    "boundary condition, and which specifies the linear solver. In this\n",
    "case an LU solver is used. The `solve\n",
    "<dolfinx.fem.petsc.LinearProblem.solve>` computes the solution."
   ]
  },
  {
   "cell_type": "code",
   "execution_count": 11,
   "id": "fe01c4db",
   "metadata": {},
   "outputs": [],
   "source": [
    "problem = LinearProblem(a, L, bcs=[bc], petsc_options={\"ksp_type\": \"preonly\", \"pc_type\": \"lu\"})\n",
    "\n",
    "uh = problem.solve()"
   ]
  },
  {
   "cell_type": "markdown",
   "id": "362504a5",
   "metadata": {},
   "source": [
    "The solution can be written to a `XDMFFile\n",
    "<dolfinx.io.XDMFFile>` file visualization with ParaView or VisIt:"
   ]
  },
  {
   "cell_type": "code",
   "execution_count": 12,
   "id": "56accb77",
   "metadata": {},
   "outputs": [],
   "source": [
    "with io.VTKFile(msh.comm, \"out_poisson/poisson.vtk\", \"w\") as file:\n",
    "    file.write_mesh(msh)\n",
    "    file.write_function(uh)"
   ]
  },
  {
   "cell_type": "markdown",
   "id": "bf039cbe",
   "metadata": {},
   "source": [
    "and displayed using [pyvista](https://docs.pyvista.org/)."
   ]
  },
  {
   "cell_type": "code",
   "execution_count": 13,
   "id": "6109cc78",
   "metadata": {
    "lines_to_next_cell": 0
   },
   "outputs": [
    {
     "data": {
      "application/vnd.jupyter.widget-view+json": {
       "model_id": "84a50f5db9454b16b1530e6857b853bf",
       "version_major": 2,
       "version_minor": 0
      },
      "text/plain": [
       "Widget(value='<iframe src=\"http://localhost:51419/index.html?ui=P_0x320578ef0_1&reconnect=auto\" class=\"pyvista…"
      ]
     },
     "metadata": {},
     "output_type": "display_data"
    }
   ],
   "source": [
    "import pyvista\n",
    "\n",
    "# pyvista.set_jupyter_backend('static')\n",
    "\n",
    "# The following line is needed in linux/docker/binder, not on MacOS\n",
    "# pyvista.start_xvfb()\n",
    "\n",
    "cells, types, x = plot.vtk_mesh(V)\n",
    "grid = pyvista.UnstructuredGrid(cells, types, x)\n",
    "grid.point_data[\"u\"] = uh.x.array.real\n",
    "grid.set_active_scalars(\"u\")\n",
    "plotter = pyvista.Plotter()\n",
    "plotter.add_mesh(grid, show_edges=True)\n",
    "warped = grid.warp_by_scalar()\n",
    "plotter.add_mesh(warped)\n",
    "if pyvista.OFF_SCREEN:\n",
    "    pyvista.start_xvfb(wait=0.1)\n",
    "    plotter.screenshot(\"uh_poisson.png\")\n",
    "else:\n",
    "    plotter.show()\n",
    "    plotter.screenshot(\"uh_poisson.png\")\n"
   ]
  }
 ],
 "metadata": {
  "jupytext": {
   "formats": "py:light,ipynb"
  },
  "kernelspec": {
   "display_name": "Python 3 (ipykernel)",
   "language": "python",
   "name": "python3"
  },
  "language_info": {
   "codemirror_mode": {
    "name": "ipython",
    "version": 3
   },
   "file_extension": ".py",
   "mimetype": "text/x-python",
   "name": "python",
   "nbconvert_exporter": "python",
   "pygments_lexer": "ipython3",
   "version": "3.12.6"
  }
 },
 "nbformat": 4,
 "nbformat_minor": 5
}
