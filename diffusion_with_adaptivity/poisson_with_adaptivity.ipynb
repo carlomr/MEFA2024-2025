{
 "cells": [
  {
   "cell_type": "markdown",
   "id": "f40991cb",
   "metadata": {},
   "source": [
    "# Error estimation and mesh adaptivity for the Poisson equation\n",
    "\n",
    "In this notebook, we will solve the Poisson equation (with a quite localized right hand side), estimate the error element-by-element,  refine a fraction of the elements, and continue the SOLVE - ESTIMATE - MARK - REFINE loop until a certain residual threshold is reached.\n",
    "\n",
    "## Equation and problem definition\n",
    "\n",
    "For a domain $\\Omega \\subset \\mathbb{R}^n$ with boundary $\\partial\n",
    "\\Omega = \\Gamma_{D} \\cup \\Gamma_{N}$, the Poisson equation with\n",
    "particular boundary conditions reads:\n",
    "\n",
    "$$\n",
    "\\begin{align}\n",
    "  - \\nabla^{2} u &= f \\quad {\\rm in} \\ \\Omega, \\\\\n",
    "  u &= 0 \\quad {\\rm on} \\ \\partial\\Omega \\\\\n",
    "\\end{align}\n",
    "$$\n",
    "\n",
    "where $f$ is an input datum. The variational problem reads: find $u \\in V$ such\n",
    "that\n",
    "\n",
    "$$\n",
    "a(u, v) = L(v) \\quad \\forall \\ v \\in V,\n",
    "$$\n",
    "\n",
    "where $V$ is a suitable function space and\n",
    "\n",
    "$$\n",
    "\\begin{align}\n",
    "  a(u, v) &:= \\int_{\\Omega} \\nabla u \\cdot \\nabla v \\, {\\rm d} x, \\\\\n",
    "  L(v)    &:= \\int_{\\Omega} f v \\, {\\rm d} x.\n",
    "\\end{align}\n",
    "$$\n",
    "\n",
    "The expression $a(u, v)$ is the bilinear form and $L(v)$\n",
    "is the linear form. It is assumed that all functions in $V$\n",
    "satisfy the Dirichlet boundary conditions ($u = 0 \\ {\\rm on} \\\n",
    "\\Gamma_{D}$).\n",
    "\n",
    "In this demo we consider:\n",
    "\n",
    "- $\\Omega = [0,2] \\times [0,1]$ (a rectangle)\n",
    "- $f = 40\\exp(-((x - 0.75)^2 + (y - 0.75)^2) / 0.01)$\n",
    "\n",
    "We will solve the problem, then estimate the residuals, element by element\n",
    "\n",
    "## Local error estimates\n",
    "We will use the local, residual based error estimator given by\n",
    "$$\n",
    "\\eta_T^{res}(u_h, f)^2 := h_T^2 \\| f + \\Delta u_h \\|_{L_2(T)}^2 +\n",
    " \\sum_{E : E \\subset \\partial T \\atop E \\subset \\Omega} h_E \\left\\| \\left[ \\frac{\\partial u_h}{\\partial n} \\right] \\right\\|_{L_2(E)} ^2.\n",
    "$$\n",
    "Here, $T$ is a mesh element, and $E$ are therefore the edges of this element, with diameter $h_T$ and length $h_E$, respectively. For a certain $u_h$ that we have compute, we can then compute, for all mesh elements $T\\in\\mathcal{T}$, $\\eta_T^{res}(u_h, f)^2$. We then refine a fraction of the elements, where the error indicator is bigger. \n",
    "## Implementation\n"
   ]
  },
  {
   "cell_type": "markdown",
   "id": "da060a2e-6093-4c4e-8c88-0c068b49b3d7",
   "metadata": {},
   "source": [
    "We import the same packages as in the Poisson example"
   ]
  },
  {
   "cell_type": "code",
   "execution_count": 27,
   "id": "607246dc",
   "metadata": {},
   "outputs": [],
   "source": [
    "from mpi4py import MPI\n",
    "from petsc4py.PETSc import ScalarType  # type: ignore"
   ]
  },
  {
   "cell_type": "code",
   "execution_count": 28,
   "id": "ea5f3301",
   "metadata": {},
   "outputs": [],
   "source": [
    "import numpy as np\n",
    "\n",
    "import ufl\n",
    "from dolfinx import fem, io, mesh, plot, cpp\n",
    "from dolfinx.fem.petsc import LinearProblem\n",
    "from ufl import ds, dx, dS, grad, div, inner, avg, jump\n",
    "import pyvista\n",
    "pyvista.set_jupyter_backend('html')\n",
    "# the following line is needed on linux/docker/binder, not on MacOS\n",
    "# pyvista.start_xvfb()\n",
    "\n",
    "# To remove interactivity in the plots, use\n",
    "# pyvista.set_jupyter_backend('static')"
   ]
  },
  {
   "cell_type": "markdown",
   "id": "9b503fe0-4456-4c42-8d31-c840a4ecca53",
   "metadata": {},
   "source": [
    "The function {py:func}`solve_poisson_homog_dirichlet` solves the Poisson problem with homogeneous boundary conditions, in the same way as in the previous example"
   ]
  },
  {
   "cell_type": "code",
   "execution_count": 29,
   "id": "dbbdac2f-1eb1-469e-ae6a-3988a83b40be",
   "metadata": {},
   "outputs": [],
   "source": [
    "def solve_poisson_homog_dirichlet(msh, f, bc_marker):\n",
    "    V = fem.functionspace(msh, (\"Lagrange\", 1))\n",
    "   \n",
    "    \n",
    "    facets = mesh.locate_entities_boundary(\n",
    "        msh,\n",
    "        dim=(msh.topology.dim - 1),\n",
    "        marker=bc_marker\n",
    "    )\n",
    "    dofs = fem.locate_dofs_topological(V=V, entity_dim=1, entities=facets)\n",
    "    bc = fem.dirichletbc(value=ScalarType(0), dofs=dofs, V=V)\n",
    "    u = ufl.TrialFunction(V)\n",
    "    v = ufl.TestFunction(V)\n",
    "\n",
    "    a = inner(grad(u), grad(v)) * dx\n",
    "    L = inner(f, v) * dx\n",
    "    problem = LinearProblem(a, L, bcs=[bc], petsc_options={\"ksp_type\": \"preonly\", \"pc_type\": \"lu\"})\n",
    "    \n",
    "    \n",
    "    uh = problem.solve()\n",
    "\n",
    "    return uh, V"
   ]
  },
  {
   "cell_type": "code",
   "execution_count": 30,
   "id": "824a6eb7-e100-4bff-b9d5-cc77db8b2756",
   "metadata": {},
   "outputs": [],
   "source": [
    "def viz(V, uh):\n",
    "    cells, types, x = plot.vtk_mesh(V)\n",
    "    grid = pyvista.UnstructuredGrid(cells, types, x)\n",
    "    grid.point_data[\"u\"] = uh.x.array.real\n",
    "    grid.set_active_scalars(\"u\")\n",
    "    plotter = pyvista.Plotter(off_screen=True)\n",
    "\n",
    "    warped = grid.warp_by_scalar()\n",
    "    plotter.add_mesh(warped, show_edges=True)\n",
    "    if pyvista.OFF_SCREEN:\n",
    "        pyvista.start_xvfb(wait=0.1)\n",
    "        plotter.screenshot(\"uh_poisson.png\")\n",
    "    else:\n",
    "        plotter.show()\n",
    "\n",
    "def write_to_file(msh, uh, idx):\n",
    "    with io.VTKFile(msh.comm, f\"out_poisson/poisson\", \"w\") as file:\n",
    "        file.write_function(uh, float(idx))"
   ]
  },
  {
   "cell_type": "markdown",
   "id": "887e967d",
   "metadata": {},
   "source": [
    "We create the mesh and the right hand side, then solve the Poisson problem the first time"
   ]
  },
  {
   "cell_type": "code",
   "execution_count": 31,
   "id": "b6565789",
   "metadata": {
    "lines_to_next_cell": 2
   },
   "outputs": [],
   "source": [
    "msh = mesh.create_rectangle(\n",
    "    comm=MPI.COMM_WORLD,\n",
    "    points=((0.0, 0.0), (2.0, 1.0)),\n",
    "    n=(4, 2),\n",
    "    cell_type=mesh.CellType.triangle,\n",
    ")\n",
    "bc_marker = lambda x: np.isclose(x[0], 0.0) | np.isclose(x[0], 2.0) | np.isclose(x[1], 0.0) | np.isclose(x[1], 1.0)\n",
    "x = ufl.SpatialCoordinate(msh)\n",
    "f = 40 * ufl.exp(-((x[0] - 0.75) ** 2 + (x[1] - 0.75) ** 2) / 0.01)\n",
    "\n",
    "\n",
    "uh, V = solve_poisson_homog_dirichlet(msh, f, bc_marker)"
   ]
  },
  {
   "cell_type": "code",
   "execution_count": 32,
   "id": "fd5cf944",
   "metadata": {},
   "outputs": [
    {
     "data": {
      "application/vnd.jupyter.widget-view+json": {
       "model_id": "d6c81610c31a4af19b0f9fcecea02264",
       "version_major": 2,
       "version_minor": 0
      },
      "text/plain": [
       "EmbeddableWidget(value='<iframe srcdoc=\"<!DOCTYPE html>\\n<html>\\n  <head>\\n    <meta http-equiv=&quot;Content-…"
      ]
     },
     "metadata": {},
     "output_type": "display_data"
    }
   ],
   "source": [
    "viz(V, uh)"
   ]
  },
  {
   "cell_type": "markdown",
   "id": "46a75afb-cad6-4ca0-9a2f-9a5211a3abae",
   "metadata": {},
   "source": [
    "We now create a space of piecewise constant functions: \"DG\" stands for discontinuous Galerkin, $0$ is the degree of the polynomials in each mesh cell (hence, we use piecewise constants).\n",
    "\n",
    "We extract the number of mesh cells, and decide that we refine approximately $1/20$ of the cells."
   ]
  },
  {
   "cell_type": "code",
   "execution_count": 33,
   "id": "659d6cf8-8fcf-4741-9d20-93fb6f28eef3",
   "metadata": {},
   "outputs": [],
   "source": [
    "DG = fem.functionspace(msh, (\"DG\", 0))\n",
    "tdim = msh.topology.dim\n",
    "num_cells = msh.topology.index_map(tdim).size_local\n",
    "num_cells_to_refine = int(np.ceil(0.05*num_cells))"
   ]
  },
  {
   "cell_type": "markdown",
   "id": "347a976c-0cc5-438c-8135-ba8e2e9ea6be",
   "metadata": {},
   "source": [
    "First, we get the vectors that are normal to each edge of the mesh. Then, we want to use the linear form\n",
    "$$\n",
    "\\int_T 1 dx\n",
    "$$\n",
    "to compute the area of each element. We exploit the fact that the basis for the DG space is given by\n",
    "$$\n",
    "\\{\\mathbb{1}_T\\}_{T\\in \\mathcal{T}},\n",
    "$$\n",
    "i.e., each basis function is $1$ on an element and zero elsewhere, to extract the vector with the areas of the elements. We then create a piecewise constant function `cell_area` that is equal, in each element, to the area of that element."
   ]
  },
  {
   "cell_type": "code",
   "execution_count": 34,
   "id": "f7a3f6fa-b4ca-47f3-9259-196420697aad",
   "metadata": {
    "lines_to_next_cell": 2
   },
   "outputs": [],
   "source": [
    "n = ufl.FacetNormal(msh)\n",
    "w = ufl.TestFunction(DG)\n",
    "cell_area_form = fem.form(w*dx)\n",
    "cell_area = fem.function.Function(DG, fem.assemble_vector(cell_area_form))"
   ]
  },
  {
   "cell_type": "markdown",
   "id": "2c2af2d7-dff5-4b88-8f2d-1988b1606ee4",
   "metadata": {},
   "source": [
    "We define the linear form that implements the local residual computation, using the same idea as above."
   ]
  },
  {
   "cell_type": "code",
   "execution_count": 35,
   "id": "4090c49a-bc33-40f9-a13e-2cec760b191b",
   "metadata": {},
   "outputs": [],
   "source": [
    "residual = fem.form(2*cell_area*w*(div(grad(uh))-f)**2*dx + np.sqrt(2)*avg(cell_area**(1./2))*avg(w)*jump(grad(uh),n)**2*dS)    "
   ]
  },
  {
   "cell_type": "markdown",
   "id": "f8a8ff18-d646-4c5a-a844-932d41e9da04",
   "metadata": {},
   "source": [
    "We now extract the vector with the local residuals and compute the global residual. We then order the cell by residual from the biggest to the smallest, store their indeces, and keep the first `num_cells_to_refine`."
   ]
  },
  {
   "cell_type": "code",
   "execution_count": 36,
   "id": "41745039-a08e-450d-a1ac-ed52848d5cb9",
   "metadata": {
    "lines_to_next_cell": 0
   },
   "outputs": [],
   "source": [
    "\n",
    "array_cell_res = fem.assemble_vector(residual).array\n",
    "tot_residual = np.sum(array_cell_res)\n",
    "cell_ord_by_res = [idx for idx, value in sorted(enumerate(array_cell_res), key=lambda x: x[-1], reverse=True)]\n",
    "\n",
    "marked_cells = cell_ord_by_res[0:num_cells_to_refine] \n"
   ]
  },
  {
   "cell_type": "markdown",
   "id": "c7cd445b-4a1e-4e48-bed5-cdffe3b4bcf4",
   "metadata": {
    "lines_to_next_cell": 2
   },
   "source": [
    "We extract the \"element to edge\" connectivity of the mesh, then, for each cell that we have marked for refinement, extract the edges that belong to its boundary. We update the mesh by refining the cells that we have marked."
   ]
  },
  {
   "cell_type": "code",
   "execution_count": null,
   "id": "9956c313-374d-48f0-a5f6-f7ecc25ea8e9",
   "metadata": {
    "lines_to_next_cell": 2
   },
   "outputs": [],
   "source": [
    "\n",
    "msh.topology.create_connectivity(msh.topology.dim,1)\n",
    "c_to_e  = msh.topology.connectivity(msh.topology.dim,1)\n",
    "\n",
    "edges=[]\n",
    "for cell in marked_cells:\n",
    "    for e in c_to_e.links(cell):\n",
    "        edges.append(e)\n",
    "\n",
    "msh = mesh.refine(msh, np.array(edges))[0]\n",
    "x = ufl.SpatialCoordinate(msh)\n",
    "f = 40 * ufl.exp(-((x[0] - 0.75) ** 2 + (x[1] - 0.75) ** 2) / 0.01)\n"
   ]
  },
  {
   "cell_type": "markdown",
   "id": "dee61f88-4a53-4873-9263-f52d46af4eb6",
   "metadata": {},
   "source": [
    "We solve the Poisson problem on this new mesh and visualize the updated solution"
   ]
  },
  {
   "cell_type": "code",
   "execution_count": null,
   "id": "5202e4d1-8ec8-4a7a-a9e9-786985c9b2dc",
   "metadata": {},
   "outputs": [
    {
     "data": {
      "application/vnd.jupyter.widget-view+json": {
       "model_id": "aaaa7a730e6b4a94b281e544533055ae",
       "version_major": 2,
       "version_minor": 0
      },
      "text/plain": [
       "EmbeddableWidget(value='<iframe srcdoc=\"<!DOCTYPE html>\\n<html>\\n  <head>\\n    <meta http-equiv=&quot;Content-…"
      ]
     },
     "metadata": {},
     "output_type": "display_data"
    }
   ],
   "source": [
    "\n",
    "uh, V = solve_poisson_homog_dirichlet(msh, f, bc_marker)\n",
    "viz(V, uh)"
   ]
  },
  {
   "cell_type": "markdown",
   "id": "433023f5-8d92-4a39-a6d9-ec17139ad640",
   "metadata": {},
   "source": [
    "Finally, we do the same refinement procedure, until a certain threshold in the global residual indicator is attained."
   ]
  },
  {
   "cell_type": "code",
   "execution_count": null,
   "id": "da71c7ad-2c1e-4814-954e-5a127e3a584b",
   "metadata": {},
   "outputs": [
    {
     "name": "stdout",
     "output_type": "stream",
     "text": [
      "Iteration: 1, residual: 3.3264738140512677\n",
      "Iteration: 2, residual: 1.6124655547899513\n",
      "Iteration: 3, residual: 0.7209453896141137\n"
     ]
    },
    {
     "data": {
      "application/vnd.jupyter.widget-view+json": {
       "model_id": "f91a58174e924441916638ad433dfc3a",
       "version_major": 2,
       "version_minor": 0
      },
      "text/plain": [
       "EmbeddableWidget(value='<iframe srcdoc=\"<!DOCTYPE html>\\n<html>\\n  <head>\\n    <meta http-equiv=&quot;Content-…"
      ]
     },
     "metadata": {},
     "output_type": "display_data"
    },
    {
     "name": "stdout",
     "output_type": "stream",
     "text": [
      "Iteration: 4, residual: 0.4600101487679869\n",
      "Iteration: 5, residual: 0.33989238419655626\n",
      "Iteration: 6, residual: 0.25490294679510966\n"
     ]
    },
    {
     "data": {
      "application/vnd.jupyter.widget-view+json": {
       "model_id": "9e0e4289823148a789af9cea8280ef4f",
       "version_major": 2,
       "version_minor": 0
      },
      "text/plain": [
       "EmbeddableWidget(value='<iframe srcdoc=\"<!DOCTYPE html>\\n<html>\\n  <head>\\n    <meta http-equiv=&quot;Content-…"
      ]
     },
     "metadata": {},
     "output_type": "display_data"
    },
    {
     "name": "stdout",
     "output_type": "stream",
     "text": [
      "Iteration: 7, residual: 0.20122188669005914\n",
      "Iteration: 8, residual: 0.15880507379466552\n",
      "Iteration: 9, residual: 0.12317082488989821\n"
     ]
    },
    {
     "data": {
      "application/vnd.jupyter.widget-view+json": {
       "model_id": "105d802adb594f25ab13ddee12e155be",
       "version_major": 2,
       "version_minor": 0
      },
      "text/plain": [
       "EmbeddableWidget(value='<iframe srcdoc=\"<!DOCTYPE html>\\n<html>\\n  <head>\\n    <meta http-equiv=&quot;Content-…"
      ]
     },
     "metadata": {},
     "output_type": "display_data"
    },
    {
     "name": "stdout",
     "output_type": "stream",
     "text": [
      "Iteration: 10, residual: 0.0981670228172144\n",
      "Iteration: 11, residual: 0.07563548065454025\n",
      "Iteration: 12, residual: 0.059978479186664116\n"
     ]
    },
    {
     "data": {
      "application/vnd.jupyter.widget-view+json": {
       "model_id": "266f5a9dae5b4ff48f565e9025c43c0f",
       "version_major": 2,
       "version_minor": 0
      },
      "text/plain": [
       "EmbeddableWidget(value='<iframe srcdoc=\"<!DOCTYPE html>\\n<html>\\n  <head>\\n    <meta http-equiv=&quot;Content-…"
      ]
     },
     "metadata": {},
     "output_type": "display_data"
    },
    {
     "name": "stdout",
     "output_type": "stream",
     "text": [
      "Iteration: 13, residual: 0.046169916609066844\n"
     ]
    },
    {
     "data": {
      "application/vnd.jupyter.widget-view+json": {
       "model_id": "598fa00321ea4db29946e1567808b8c7",
       "version_major": 2,
       "version_minor": 0
      },
      "text/plain": [
       "EmbeddableWidget(value='<iframe srcdoc=\"<!DOCTYPE html>\\n<html>\\n  <head>\\n    <meta http-equiv=&quot;Content-…"
      ]
     },
     "metadata": {},
     "output_type": "display_data"
    }
   ],
   "source": [
    "tot_residual = 1\n",
    "iteration = 0\n",
    "writer = io.VTKFile(msh.comm, f\"out_poisson/poisson\", \"w\")\n",
    "\n",
    "while tot_residual > 5e-2:\n",
    "    DG = fem.functionspace(msh, (\"DG\", 0))\n",
    "    tdim = msh.topology.dim\n",
    "    num_cells = msh.topology.index_map(tdim).size_local\n",
    "    \n",
    "    \n",
    "    n = ufl.FacetNormal(msh)\n",
    "    w = ufl.TestFunction(DG)\n",
    "    cell_area_form = fem.form(w*dx)\n",
    "    cell_area = fem.function.Function(DG, fem.assemble_vector(cell_area_form))\n",
    "    \n",
    "    residual = fem.form(2*cell_area*w*(div(grad(uh))+f)**2*dx + np.sqrt(2)*avg(cell_area**(1./2))*avg(w)*jump(grad(uh),n)**2*dS)    \n",
    "     \n",
    "    array_cell_res = fem.assemble_vector(residual).array\n",
    "    tot_residual = np.sum(array_cell_res)\n",
    "    cell_ord_by_res = [idx for idx, value in sorted(enumerate(array_cell_res), key=lambda x: x[-1], reverse=True)]\n",
    "    num_cells_to_refine = int(np.ceil(0.05*num_cells))\n",
    "    marked_cells = cell_ord_by_res[0:num_cells_to_refine] \n",
    "    \n",
    "    msh.topology.create_connectivity(msh.topology.dim,1)\n",
    "    c_to_e  = msh.topology.connectivity(msh.topology.dim,1)\n",
    "    \n",
    "    edges=[]\n",
    "    for cell in marked_cells:\n",
    "        for e in c_to_e.links(cell):\n",
    "            edges.append(e)\n",
    "    \n",
    "    msh = mesh.refine(msh, np.array(edges))[0]\n",
    "    x = ufl.SpatialCoordinate(msh)\n",
    "    f = 40 * ufl.exp(-((x[0] - 0.75) ** 2 + (x[1] - 0.75) ** 2) / 0.01)\n",
    "    uh, V = solve_poisson_homog_dirichlet(msh, f, bc_marker)\n",
    "    iteration = iteration+1\n",
    "    print(f\"Iteration: {iteration}, residual: {tot_residual}\")\n",
    "\n",
    "    writer.write_function(uh, iteration)\n",
    "    if iteration%3==0:\n",
    "        viz(V, uh)\n",
    "\n",
    "\n",
    "viz(V, uh)"
   ]
  }
 ],
 "metadata": {
  "jupytext": {
   "formats": "py:light,ipynb"
  },
  "kernelspec": {
   "display_name": "MEFA-2024",
   "language": "python",
   "name": "python3"
  },
  "language_info": {
   "codemirror_mode": {
    "name": "ipython",
    "version": 3
   },
   "file_extension": ".py",
   "mimetype": "text/x-python",
   "name": "python",
   "nbconvert_exporter": "python",
   "pygments_lexer": "ipython3",
   "version": "3.12.6"
  }
 },
 "nbformat": 4,
 "nbformat_minor": 5
}
